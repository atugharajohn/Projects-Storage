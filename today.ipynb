{
 "cells": [
  {
   "cell_type": "code",
   "execution_count": 1,
   "id": "cd398f2e",
   "metadata": {},
   "outputs": [],
   "source": [
    "#Anime Rating Case Study (What are the important factors influencing the rating of an anime\n",
    "#and build a predictive model to predict the rating of the anime)"
   ]
  },
  {
   "cell_type": "markdown",
   "id": "485b76da",
   "metadata": {},
   "source": [
    "## DATA PREPROCESSING"
   ]
  },
  {
   "cell_type": "code",
   "execution_count": 19,
   "id": "fcca8bb6",
   "metadata": {},
   "outputs": [],
   "source": [
    "import numpy as np\n",
    "import pandas as pd\n",
    "\n",
    "#numpy is a library which used for working with arrays, it means numerical python\n",
    "\n",
    "pd.set_option(\"display.max_columns\", None)\n",
    "pd.set_option(\"display.max_rows\", 200)"
   ]
  },
  {
   "cell_type": "code",
   "execution_count": 20,
   "id": "29dd8296",
   "metadata": {},
   "outputs": [],
   "source": [
    "#'loading the dataset'\n",
    "\n",
    "anime = pd.read_csv(r\"C:\\Users\\User 1\\Desktop\\Ailead\\anime.csv\")"
   ]
  },
  {
   "cell_type": "code",
   "execution_count": 22,
   "id": "a252c947",
   "metadata": {},
   "outputs": [
    {
     "data": {
      "text/html": [
       "<div>\n",
       "<style scoped>\n",
       "    .dataframe tbody tr th:only-of-type {\n",
       "        vertical-align: middle;\n",
       "    }\n",
       "\n",
       "    .dataframe tbody tr th {\n",
       "        vertical-align: top;\n",
       "    }\n",
       "\n",
       "    .dataframe thead th {\n",
       "        text-align: right;\n",
       "    }\n",
       "</style>\n",
       "<table border=\"1\" class=\"dataframe\">\n",
       "  <thead>\n",
       "    <tr style=\"text-align: right;\">\n",
       "      <th></th>\n",
       "      <th>title</th>\n",
       "      <th>mediaType</th>\n",
       "      <th>eps</th>\n",
       "      <th>duration</th>\n",
       "      <th>ongoing</th>\n",
       "      <th>startYr</th>\n",
       "      <th>finishYr</th>\n",
       "      <th>sznOfRelease</th>\n",
       "      <th>description</th>\n",
       "      <th>studios</th>\n",
       "      <th>tags</th>\n",
       "      <th>contentWarn</th>\n",
       "      <th>watched</th>\n",
       "      <th>watching</th>\n",
       "      <th>wantWatch</th>\n",
       "      <th>dropped</th>\n",
       "      <th>rating</th>\n",
       "      <th>votes</th>\n",
       "    </tr>\n",
       "  </thead>\n",
       "  <tbody>\n",
       "    <tr>\n",
       "      <th>0</th>\n",
       "      <td>Fullmetal Alchemist: Brotherhood</td>\n",
       "      <td>TV</td>\n",
       "      <td>64.0</td>\n",
       "      <td>NaN</td>\n",
       "      <td>False</td>\n",
       "      <td>2009.0</td>\n",
       "      <td>2010.0</td>\n",
       "      <td>Spring</td>\n",
       "      <td>The foundation of alchemy is based on the law ...</td>\n",
       "      <td>['Bones']</td>\n",
       "      <td>['Action', 'Adventure', 'Drama', 'Fantasy', 'M...</td>\n",
       "      <td>['Animal Abuse', 'Mature Themes', 'Violence', ...</td>\n",
       "      <td>103707.0</td>\n",
       "      <td>14351</td>\n",
       "      <td>25810</td>\n",
       "      <td>2656</td>\n",
       "      <td>4.702</td>\n",
       "      <td>86547.0</td>\n",
       "    </tr>\n",
       "    <tr>\n",
       "      <th>1</th>\n",
       "      <td>your name.</td>\n",
       "      <td>Movie</td>\n",
       "      <td>1.0</td>\n",
       "      <td>107.0</td>\n",
       "      <td>False</td>\n",
       "      <td>2016.0</td>\n",
       "      <td>2016.0</td>\n",
       "      <td>NaN</td>\n",
       "      <td>Mitsuha and Taki are two total strangers livin...</td>\n",
       "      <td>['CoMix Wave Films']</td>\n",
       "      <td>['Drama', 'Romance', 'Body Swapping', 'Gender ...</td>\n",
       "      <td>[]</td>\n",
       "      <td>58831.0</td>\n",
       "      <td>1453</td>\n",
       "      <td>21733</td>\n",
       "      <td>124</td>\n",
       "      <td>4.663</td>\n",
       "      <td>43960.0</td>\n",
       "    </tr>\n",
       "    <tr>\n",
       "      <th>2</th>\n",
       "      <td>A Silent Voice</td>\n",
       "      <td>Movie</td>\n",
       "      <td>1.0</td>\n",
       "      <td>130.0</td>\n",
       "      <td>False</td>\n",
       "      <td>2016.0</td>\n",
       "      <td>2016.0</td>\n",
       "      <td>NaN</td>\n",
       "      <td>After transferring into a new school, a deaf g...</td>\n",
       "      <td>['Kyoto Animation']</td>\n",
       "      <td>['Drama', 'Shounen', 'Disability', 'Melancholy...</td>\n",
       "      <td>['Bullying', 'Mature Themes', 'Suicide']</td>\n",
       "      <td>45892.0</td>\n",
       "      <td>946</td>\n",
       "      <td>17148</td>\n",
       "      <td>132</td>\n",
       "      <td>4.661</td>\n",
       "      <td>33752.0</td>\n",
       "    </tr>\n",
       "    <tr>\n",
       "      <th>3</th>\n",
       "      <td>Haikyuu!! Karasuno High School vs Shiratorizaw...</td>\n",
       "      <td>TV</td>\n",
       "      <td>10.0</td>\n",
       "      <td>NaN</td>\n",
       "      <td>False</td>\n",
       "      <td>2016.0</td>\n",
       "      <td>2016.0</td>\n",
       "      <td>Fall</td>\n",
       "      <td>Picking up where the second season ended, the ...</td>\n",
       "      <td>['Production I.G']</td>\n",
       "      <td>['Shounen', 'Sports', 'Animeism', 'School Club...</td>\n",
       "      <td>[]</td>\n",
       "      <td>25134.0</td>\n",
       "      <td>2183</td>\n",
       "      <td>8082</td>\n",
       "      <td>167</td>\n",
       "      <td>4.660</td>\n",
       "      <td>17422.0</td>\n",
       "    </tr>\n",
       "    <tr>\n",
       "      <th>4</th>\n",
       "      <td>Attack on Titan 3rd Season: Part II</td>\n",
       "      <td>TV</td>\n",
       "      <td>10.0</td>\n",
       "      <td>NaN</td>\n",
       "      <td>False</td>\n",
       "      <td>2019.0</td>\n",
       "      <td>2019.0</td>\n",
       "      <td>Spring</td>\n",
       "      <td>The battle to retake Wall Maria begins now! Wi...</td>\n",
       "      <td>['Wit Studio']</td>\n",
       "      <td>['Action', 'Fantasy', 'Horror', 'Shounen', 'Da...</td>\n",
       "      <td>['Cannibalism', 'Explicit Violence']</td>\n",
       "      <td>21308.0</td>\n",
       "      <td>3217</td>\n",
       "      <td>7864</td>\n",
       "      <td>174</td>\n",
       "      <td>4.650</td>\n",
       "      <td>15789.0</td>\n",
       "    </tr>\n",
       "  </tbody>\n",
       "</table>\n",
       "</div>"
      ],
      "text/plain": [
       "                                               title mediaType   eps  \\\n",
       "0                   Fullmetal Alchemist: Brotherhood        TV  64.0   \n",
       "1                                         your name.     Movie   1.0   \n",
       "2                                     A Silent Voice     Movie   1.0   \n",
       "3  Haikyuu!! Karasuno High School vs Shiratorizaw...        TV  10.0   \n",
       "4                Attack on Titan 3rd Season: Part II        TV  10.0   \n",
       "\n",
       "   duration  ongoing  startYr  finishYr sznOfRelease  \\\n",
       "0       NaN    False   2009.0    2010.0       Spring   \n",
       "1     107.0    False   2016.0    2016.0          NaN   \n",
       "2     130.0    False   2016.0    2016.0          NaN   \n",
       "3       NaN    False   2016.0    2016.0         Fall   \n",
       "4       NaN    False   2019.0    2019.0       Spring   \n",
       "\n",
       "                                         description               studios  \\\n",
       "0  The foundation of alchemy is based on the law ...             ['Bones']   \n",
       "1  Mitsuha and Taki are two total strangers livin...  ['CoMix Wave Films']   \n",
       "2  After transferring into a new school, a deaf g...   ['Kyoto Animation']   \n",
       "3  Picking up where the second season ended, the ...    ['Production I.G']   \n",
       "4  The battle to retake Wall Maria begins now! Wi...        ['Wit Studio']   \n",
       "\n",
       "                                                tags  \\\n",
       "0  ['Action', 'Adventure', 'Drama', 'Fantasy', 'M...   \n",
       "1  ['Drama', 'Romance', 'Body Swapping', 'Gender ...   \n",
       "2  ['Drama', 'Shounen', 'Disability', 'Melancholy...   \n",
       "3  ['Shounen', 'Sports', 'Animeism', 'School Club...   \n",
       "4  ['Action', 'Fantasy', 'Horror', 'Shounen', 'Da...   \n",
       "\n",
       "                                         contentWarn   watched  watching  \\\n",
       "0  ['Animal Abuse', 'Mature Themes', 'Violence', ...  103707.0     14351   \n",
       "1                                                 []   58831.0      1453   \n",
       "2           ['Bullying', 'Mature Themes', 'Suicide']   45892.0       946   \n",
       "3                                                 []   25134.0      2183   \n",
       "4               ['Cannibalism', 'Explicit Violence']   21308.0      3217   \n",
       "\n",
       "   wantWatch  dropped  rating    votes  \n",
       "0      25810     2656   4.702  86547.0  \n",
       "1      21733      124   4.663  43960.0  \n",
       "2      17148      132   4.661  33752.0  \n",
       "3       8082      167   4.660  17422.0  \n",
       "4       7864      174   4.650  15789.0  "
      ]
     },
     "execution_count": 22,
     "metadata": {},
     "output_type": "execute_result"
    }
   ],
   "source": [
    "anime.head()"
   ]
  },
  {
   "cell_type": "code",
   "execution_count": 6,
   "id": "4876da04",
   "metadata": {},
   "outputs": [
    {
     "name": "stdout",
     "output_type": "stream",
     "text": [
      "<class 'pandas.core.frame.DataFrame'>\n",
      "RangeIndex: 14578 entries, 0 to 14577\n",
      "Data columns (total 18 columns):\n",
      " #   Column        Non-Null Count  Dtype  \n",
      "---  ------        --------------  -----  \n",
      " 0   title         14578 non-null  object \n",
      " 1   mediaType     14510 non-null  object \n",
      " 2   eps           14219 non-null  float64\n",
      " 3   duration      9137 non-null   float64\n",
      " 4   ongoing       14578 non-null  bool   \n",
      " 5   startYr       14356 non-null  float64\n",
      " 6   finishYr      14134 non-null  float64\n",
      " 7   sznOfRelease  3767 non-null   object \n",
      " 8   description   8173 non-null   object \n",
      " 9   studios       14578 non-null  object \n",
      " 10  tags          14578 non-null  object \n",
      " 11  contentWarn   14578 non-null  object \n",
      " 12  watched       14356 non-null  float64\n",
      " 13  watching      14578 non-null  int64  \n",
      " 14  wantWatch     14578 non-null  int64  \n",
      " 15  dropped       14578 non-null  int64  \n",
      " 16  rating        12107 non-null  float64\n",
      " 17  votes         12119 non-null  float64\n",
      "dtypes: bool(1), float64(7), int64(3), object(7)\n",
      "memory usage: 1.9+ MB\n"
     ]
    }
   ],
   "source": [
    "anime.info()"
   ]
  },
  {
   "cell_type": "code",
   "execution_count": 7,
   "id": "172faed3",
   "metadata": {},
   "outputs": [
    {
     "data": {
      "text/plain": [
       "title               0\n",
       "mediaType          68\n",
       "eps               359\n",
       "duration         5441\n",
       "ongoing             0\n",
       "startYr           222\n",
       "finishYr          444\n",
       "sznOfRelease    10811\n",
       "description      6405\n",
       "studios             0\n",
       "tags                0\n",
       "contentWarn         0\n",
       "watched           222\n",
       "watching            0\n",
       "wantWatch           0\n",
       "dropped             0\n",
       "rating           2471\n",
       "votes            2459\n",
       "dtype: int64"
      ]
     },
     "execution_count": 7,
     "metadata": {},
     "output_type": "execute_result"
    }
   ],
   "source": [
    "anime.isnull().sum()"
   ]
  },
  {
   "cell_type": "code",
   "execution_count": 8,
   "id": "d311c49b",
   "metadata": {},
   "outputs": [
    {
     "data": {
      "text/plain": [
       "array([ nan, 107., 130., 111., 125., 117.,  90., 118.,  83., 134.,  22.,\n",
       "        44., 105.,  86.,  47.,  45.,  24., 162., 112., 108.,  48.,  26.,\n",
       "        68., 104.,  98., 119., 116.,  95.,  49.,  27., 103.,  96.,  25.,\n",
       "       100., 114.,   4.,  23., 115., 148.,  88.,  60.,  34.,  62., 101.,\n",
       "        99.,  11.,  63.,  12., 110.,  20.,  50.,  28.,  15., 109., 120.,\n",
       "        40.,   6., 113.,  92.,  10., 102., 135.,   3.,  56., 121., 140.,\n",
       "        93., 150.,  16., 137.,  13.,   5.,  46.,  94., 163.,  14.,   7.,\n",
       "        71.,  89.,  51., 106.,  55., 127.,  18.,  58.,  91.,  19.,  52.,\n",
       "        80.,   8.,  87.,  78.,  75.,  84.,   2.,  65.,  30., 132.,  70.,\n",
       "        82.,  77.,  76.,  31.,  85.,  42.,  53.,  32.,  17.,  61.,  73.,\n",
       "        21.,   1.,  64.,  43.,  97.,  37., 123.,  69.,  38., 122.,  33.,\n",
       "        39.,   9., 136.,  72.,  57., 138., 141.,  29.,  54.,  35.,  66.,\n",
       "        74., 126.,  59., 152.,  79., 153.,  81., 131.,  36., 145.,  67.,\n",
       "        41., 128., 235., 124., 160.])"
      ]
     },
     "execution_count": 8,
     "metadata": {},
     "output_type": "execute_result"
    }
   ],
   "source": [
    "anime[\"duration\"].unique()"
   ]
  },
  {
   "cell_type": "code",
   "execution_count": 9,
   "id": "39dbe579",
   "metadata": {},
   "outputs": [
    {
     "data": {
      "text/plain": [
       "0"
      ]
     },
     "execution_count": 9,
     "metadata": {},
     "output_type": "execute_result"
    }
   ],
   "source": [
    "#check for duplicated date\n",
    "anime.duplicated().sum()"
   ]
  },
  {
   "cell_type": "code",
   "execution_count": 10,
   "id": "c1b8c0c7",
   "metadata": {},
   "outputs": [
    {
     "data": {
      "text/plain": [
       "Index(['title', 'mediaType', 'eps', 'duration', 'ongoing', 'startYr',\n",
       "       'finishYr', 'sznOfRelease', 'description', 'studios', 'tags',\n",
       "       'contentWarn', 'watched', 'watching', 'wantWatch', 'dropped', 'rating',\n",
       "       'votes'],\n",
       "      dtype='object')"
      ]
     },
     "execution_count": 10,
     "metadata": {},
     "output_type": "execute_result"
    }
   ],
   "source": [
    "#CHECK COLUMN NAMES\n",
    "anime.columns"
   ]
  },
  {
   "cell_type": "code",
   "execution_count": 11,
   "id": "7299e14f",
   "metadata": {},
   "outputs": [],
   "source": [
    "#because I want predict rating, we have to drop the missing values in rating because we cannot predict nas\n",
    "#how to drop\n",
    "anime.dropna(subset = [\"rating\"], inplace = True)"
   ]
  },
  {
   "cell_type": "code",
   "execution_count": 12,
   "id": "256fec5b",
   "metadata": {},
   "outputs": [],
   "source": [
    "#reset the dataframe index\n",
    "\n",
    "anime.reset_index(drop = True, inplace = True)"
   ]
  },
  {
   "cell_type": "code",
   "execution_count": 23,
   "id": "2d9c2262",
   "metadata": {},
   "outputs": [
    {
     "data": {
      "text/html": [
       "<div>\n",
       "<style scoped>\n",
       "    .dataframe tbody tr th:only-of-type {\n",
       "        vertical-align: middle;\n",
       "    }\n",
       "\n",
       "    .dataframe tbody tr th {\n",
       "        vertical-align: top;\n",
       "    }\n",
       "\n",
       "    .dataframe thead th {\n",
       "        text-align: right;\n",
       "    }\n",
       "</style>\n",
       "<table border=\"1\" class=\"dataframe\">\n",
       "  <thead>\n",
       "    <tr style=\"text-align: right;\">\n",
       "      <th></th>\n",
       "      <th>title</th>\n",
       "      <th>mediaType</th>\n",
       "      <th>eps</th>\n",
       "      <th>duration</th>\n",
       "      <th>ongoing</th>\n",
       "      <th>startYr</th>\n",
       "      <th>finishYr</th>\n",
       "      <th>sznOfRelease</th>\n",
       "      <th>description</th>\n",
       "      <th>studios</th>\n",
       "      <th>tags</th>\n",
       "      <th>contentWarn</th>\n",
       "      <th>watched</th>\n",
       "      <th>watching</th>\n",
       "      <th>wantWatch</th>\n",
       "      <th>dropped</th>\n",
       "      <th>rating</th>\n",
       "      <th>votes</th>\n",
       "    </tr>\n",
       "  </thead>\n",
       "  <tbody>\n",
       "    <tr>\n",
       "      <th>1405</th>\n",
       "      <td>Unbelievable Space Love</td>\n",
       "      <td>Web</td>\n",
       "      <td>10.0</td>\n",
       "      <td>1.0</td>\n",
       "      <td>False</td>\n",
       "      <td>NaN</td>\n",
       "      <td>NaN</td>\n",
       "      <td>NaN</td>\n",
       "      <td>NaN</td>\n",
       "      <td>[]</td>\n",
       "      <td>['BL', 'Romance', 'Shounen-ai', 'Dream World',...</td>\n",
       "      <td>[]</td>\n",
       "      <td>90.0</td>\n",
       "      <td>16</td>\n",
       "      <td>343</td>\n",
       "      <td>0</td>\n",
       "      <td>4.012</td>\n",
       "      <td>54.0</td>\n",
       "    </tr>\n",
       "    <tr>\n",
       "      <th>5225</th>\n",
       "      <td>Manbo-P: Irokoizata wa Subete Sakuzu de Kaiket...</td>\n",
       "      <td>Music Video</td>\n",
       "      <td>1.0</td>\n",
       "      <td>5.0</td>\n",
       "      <td>False</td>\n",
       "      <td>NaN</td>\n",
       "      <td>NaN</td>\n",
       "      <td>NaN</td>\n",
       "      <td>NaN</td>\n",
       "      <td>[]</td>\n",
       "      <td>['Comedy', 'Romance', 'Vocaloid']</td>\n",
       "      <td>[]</td>\n",
       "      <td>41.0</td>\n",
       "      <td>0</td>\n",
       "      <td>25</td>\n",
       "      <td>0</td>\n",
       "      <td>3.139</td>\n",
       "      <td>20.0</td>\n",
       "    </tr>\n",
       "  </tbody>\n",
       "</table>\n",
       "</div>"
      ],
      "text/plain": [
       "                                                  title    mediaType   eps  \\\n",
       "1405                            Unbelievable Space Love          Web  10.0   \n",
       "5225  Manbo-P: Irokoizata wa Subete Sakuzu de Kaiket...  Music Video   1.0   \n",
       "\n",
       "      duration  ongoing  startYr  finishYr sznOfRelease description studios  \\\n",
       "1405       1.0    False      NaN       NaN          NaN         NaN      []   \n",
       "5225       5.0    False      NaN       NaN          NaN         NaN      []   \n",
       "\n",
       "                                                   tags contentWarn  watched  \\\n",
       "1405  ['BL', 'Romance', 'Shounen-ai', 'Dream World',...          []     90.0   \n",
       "5225                  ['Comedy', 'Romance', 'Vocaloid']          []     41.0   \n",
       "\n",
       "      watching  wantWatch  dropped  rating  votes  \n",
       "1405        16        343        0   4.012   54.0  \n",
       "5225         0         25        0   3.139   20.0  "
      ]
     },
     "execution_count": 23,
     "metadata": {},
     "output_type": "execute_result"
    }
   ],
   "source": [
    "#working on startyr\n",
    "#lets check where its missing\n",
    "anime[anime[\"startYr\"].isnull()].head(2)"
   ]
  },
  {
   "cell_type": "code",
   "execution_count": 14,
   "id": "1be689b7",
   "metadata": {},
   "outputs": [],
   "source": [
    "#its a difficult column to clean as we dont know the start year so you need domain knowledge, so we just drop it\n",
    "anime.dropna(subset = [\"startYr\"], inplace = True)\n",
    "\n",
    "anime.reset_index(drop = True, inplace = True)"
   ]
  },
  {
   "cell_type": "code",
   "execution_count": 24,
   "id": "85cff529",
   "metadata": {},
   "outputs": [
    {
     "data": {
      "text/html": [
       "<div>\n",
       "<style scoped>\n",
       "    .dataframe tbody tr th:only-of-type {\n",
       "        vertical-align: middle;\n",
       "    }\n",
       "\n",
       "    .dataframe tbody tr th {\n",
       "        vertical-align: top;\n",
       "    }\n",
       "\n",
       "    .dataframe thead th {\n",
       "        text-align: right;\n",
       "    }\n",
       "</style>\n",
       "<table border=\"1\" class=\"dataframe\">\n",
       "  <thead>\n",
       "    <tr style=\"text-align: right;\">\n",
       "      <th></th>\n",
       "      <th>title</th>\n",
       "      <th>mediaType</th>\n",
       "      <th>eps</th>\n",
       "      <th>duration</th>\n",
       "      <th>ongoing</th>\n",
       "      <th>startYr</th>\n",
       "      <th>finishYr</th>\n",
       "      <th>sznOfRelease</th>\n",
       "      <th>description</th>\n",
       "      <th>studios</th>\n",
       "      <th>tags</th>\n",
       "      <th>contentWarn</th>\n",
       "      <th>watched</th>\n",
       "      <th>watching</th>\n",
       "      <th>wantWatch</th>\n",
       "      <th>dropped</th>\n",
       "      <th>rating</th>\n",
       "      <th>votes</th>\n",
       "    </tr>\n",
       "  </thead>\n",
       "  <tbody>\n",
       "    <tr>\n",
       "      <th>13</th>\n",
       "      <td>Kaguya-sama: Love Is War?</td>\n",
       "      <td>TV</td>\n",
       "      <td>10.0</td>\n",
       "      <td>NaN</td>\n",
       "      <td>True</td>\n",
       "      <td>2020.0</td>\n",
       "      <td>NaN</td>\n",
       "      <td>Spring</td>\n",
       "      <td>The battle between love and pride continues! N...</td>\n",
       "      <td>['A-1 Pictures']</td>\n",
       "      <td>['Comedy', 'Drama', 'Romance', 'Seinen', 'Epis...</td>\n",
       "      <td>[]</td>\n",
       "      <td>NaN</td>\n",
       "      <td>6368</td>\n",
       "      <td>5747</td>\n",
       "      <td>96</td>\n",
       "      <td>4.617</td>\n",
       "      <td>2359.0</td>\n",
       "    </tr>\n",
       "    <tr>\n",
       "      <th>46</th>\n",
       "      <td>Douluo Dalu 2</td>\n",
       "      <td>Web</td>\n",
       "      <td>82.0</td>\n",
       "      <td>22.0</td>\n",
       "      <td>True</td>\n",
       "      <td>2018.0</td>\n",
       "      <td>NaN</td>\n",
       "      <td>NaN</td>\n",
       "      <td>Second season of Douluo Dalu.</td>\n",
       "      <td>[]</td>\n",
       "      <td>['Action', 'Fantasy', 'Chinese Animation', 'Cu...</td>\n",
       "      <td>[]</td>\n",
       "      <td>NaN</td>\n",
       "      <td>1167</td>\n",
       "      <td>990</td>\n",
       "      <td>32</td>\n",
       "      <td>4.540</td>\n",
       "      <td>549.0</td>\n",
       "    </tr>\n",
       "  </tbody>\n",
       "</table>\n",
       "</div>"
      ],
      "text/plain": [
       "                        title mediaType   eps  duration  ongoing  startYr  \\\n",
       "13  Kaguya-sama: Love Is War?        TV  10.0       NaN     True   2020.0   \n",
       "46              Douluo Dalu 2       Web  82.0      22.0     True   2018.0   \n",
       "\n",
       "    finishYr sznOfRelease                                        description  \\\n",
       "13       NaN       Spring  The battle between love and pride continues! N...   \n",
       "46       NaN          NaN                      Second season of Douluo Dalu.   \n",
       "\n",
       "             studios                                               tags  \\\n",
       "13  ['A-1 Pictures']  ['Comedy', 'Drama', 'Romance', 'Seinen', 'Epis...   \n",
       "46                []  ['Action', 'Fantasy', 'Chinese Animation', 'Cu...   \n",
       "\n",
       "   contentWarn  watched  watching  wantWatch  dropped  rating   votes  \n",
       "13          []      NaN      6368       5747       96   4.617  2359.0  \n",
       "46          []      NaN      1167        990       32   4.540   549.0  "
      ]
     },
     "execution_count": 24,
     "metadata": {},
     "output_type": "execute_result"
    }
   ],
   "source": [
    "#finishyr column with null\n",
    "\n",
    "anime[anime[\"finishYr\"].isnull()].head(2)"
   ]
  },
  {
   "cell_type": "code",
   "execution_count": 25,
   "id": "15a45521",
   "metadata": {},
   "outputs": [
    {
     "data": {
      "text/html": [
       "<div>\n",
       "<style scoped>\n",
       "    .dataframe tbody tr th:only-of-type {\n",
       "        vertical-align: middle;\n",
       "    }\n",
       "\n",
       "    .dataframe tbody tr th {\n",
       "        vertical-align: top;\n",
       "    }\n",
       "\n",
       "    .dataframe thead th {\n",
       "        text-align: right;\n",
       "    }\n",
       "</style>\n",
       "<table border=\"1\" class=\"dataframe\">\n",
       "  <thead>\n",
       "    <tr style=\"text-align: right;\">\n",
       "      <th></th>\n",
       "      <th>title</th>\n",
       "      <th>mediaType</th>\n",
       "      <th>eps</th>\n",
       "      <th>duration</th>\n",
       "      <th>ongoing</th>\n",
       "      <th>startYr</th>\n",
       "      <th>finishYr</th>\n",
       "      <th>sznOfRelease</th>\n",
       "      <th>description</th>\n",
       "      <th>studios</th>\n",
       "      <th>tags</th>\n",
       "      <th>contentWarn</th>\n",
       "      <th>watched</th>\n",
       "      <th>watching</th>\n",
       "      <th>wantWatch</th>\n",
       "      <th>dropped</th>\n",
       "      <th>rating</th>\n",
       "      <th>votes</th>\n",
       "    </tr>\n",
       "  </thead>\n",
       "  <tbody>\n",
       "    <tr>\n",
       "      <th>13</th>\n",
       "      <td>Kaguya-sama: Love Is War?</td>\n",
       "      <td>TV</td>\n",
       "      <td>10.0</td>\n",
       "      <td>NaN</td>\n",
       "      <td>True</td>\n",
       "      <td>2020.0</td>\n",
       "      <td>NaN</td>\n",
       "      <td>Spring</td>\n",
       "      <td>The battle between love and pride continues! N...</td>\n",
       "      <td>['A-1 Pictures']</td>\n",
       "      <td>['Comedy', 'Drama', 'Romance', 'Seinen', 'Epis...</td>\n",
       "      <td>[]</td>\n",
       "      <td>NaN</td>\n",
       "      <td>6368</td>\n",
       "      <td>5747</td>\n",
       "      <td>96</td>\n",
       "      <td>4.617</td>\n",
       "      <td>2359.0</td>\n",
       "    </tr>\n",
       "    <tr>\n",
       "      <th>46</th>\n",
       "      <td>Douluo Dalu 2</td>\n",
       "      <td>Web</td>\n",
       "      <td>82.0</td>\n",
       "      <td>22.0</td>\n",
       "      <td>True</td>\n",
       "      <td>2018.0</td>\n",
       "      <td>NaN</td>\n",
       "      <td>NaN</td>\n",
       "      <td>Second season of Douluo Dalu.</td>\n",
       "      <td>[]</td>\n",
       "      <td>['Action', 'Fantasy', 'Chinese Animation', 'Cu...</td>\n",
       "      <td>[]</td>\n",
       "      <td>NaN</td>\n",
       "      <td>1167</td>\n",
       "      <td>990</td>\n",
       "      <td>32</td>\n",
       "      <td>4.540</td>\n",
       "      <td>549.0</td>\n",
       "    </tr>\n",
       "  </tbody>\n",
       "</table>\n",
       "</div>"
      ],
      "text/plain": [
       "                        title mediaType   eps  duration  ongoing  startYr  \\\n",
       "13  Kaguya-sama: Love Is War?        TV  10.0       NaN     True   2020.0   \n",
       "46              Douluo Dalu 2       Web  82.0      22.0     True   2018.0   \n",
       "\n",
       "    finishYr sznOfRelease                                        description  \\\n",
       "13       NaN       Spring  The battle between love and pride continues! N...   \n",
       "46       NaN          NaN                      Second season of Douluo Dalu.   \n",
       "\n",
       "             studios                                               tags  \\\n",
       "13  ['A-1 Pictures']  ['Comedy', 'Drama', 'Romance', 'Seinen', 'Epis...   \n",
       "46                []  ['Action', 'Fantasy', 'Chinese Animation', 'Cu...   \n",
       "\n",
       "   contentWarn  watched  watching  wantWatch  dropped  rating   votes  \n",
       "13          []      NaN      6368       5747       96   4.617  2359.0  \n",
       "46          []      NaN      1167        990       32   4.540   549.0  "
      ]
     },
     "execution_count": 25,
     "metadata": {},
     "output_type": "execute_result"
    }
   ],
   "source": [
    "anime[anime[\"finishYr\"].isnull()].head(2)\n",
    "\n",
    "#all ongoing movies is \"True\", so that is why there is no finished year yet"
   ]
  },
  {
   "cell_type": "code",
   "execution_count": 17,
   "id": "b5f0a5cf",
   "metadata": {},
   "outputs": [],
   "source": [
    "omg = anime[anime[\"finishYr\"].isnull()] #save with a variable name"
   ]
  },
  {
   "cell_type": "code",
   "execution_count": 18,
   "id": "b9344590",
   "metadata": {},
   "outputs": [
    {
     "data": {
      "text/plain": [
       "array([ True])"
      ]
     },
     "execution_count": 18,
     "metadata": {},
     "output_type": "execute_result"
    }
   ],
   "source": [
    "omg[\"ongoing\"].unique() #meaning all the movies are still ongoing"
   ]
  },
  {
   "cell_type": "code",
   "execution_count": 26,
   "id": "c130cdd8",
   "metadata": {},
   "outputs": [
    {
     "data": {
      "text/html": [
       "<div>\n",
       "<style scoped>\n",
       "    .dataframe tbody tr th:only-of-type {\n",
       "        vertical-align: middle;\n",
       "    }\n",
       "\n",
       "    .dataframe tbody tr th {\n",
       "        vertical-align: top;\n",
       "    }\n",
       "\n",
       "    .dataframe thead th {\n",
       "        text-align: right;\n",
       "    }\n",
       "</style>\n",
       "<table border=\"1\" class=\"dataframe\">\n",
       "  <thead>\n",
       "    <tr style=\"text-align: right;\">\n",
       "      <th></th>\n",
       "      <th>eps</th>\n",
       "      <th>duration</th>\n",
       "      <th>startYr</th>\n",
       "      <th>finishYr</th>\n",
       "      <th>watched</th>\n",
       "      <th>watching</th>\n",
       "      <th>wantWatch</th>\n",
       "      <th>dropped</th>\n",
       "      <th>rating</th>\n",
       "      <th>votes</th>\n",
       "    </tr>\n",
       "  </thead>\n",
       "  <tbody>\n",
       "    <tr>\n",
       "      <th>count</th>\n",
       "      <td>14219.000000</td>\n",
       "      <td>9137.000000</td>\n",
       "      <td>14356.000000</td>\n",
       "      <td>14134.000000</td>\n",
       "      <td>14356.000000</td>\n",
       "      <td>14578.000000</td>\n",
       "      <td>14578.000000</td>\n",
       "      <td>14578.000000</td>\n",
       "      <td>12107.000000</td>\n",
       "      <td>12119.000000</td>\n",
       "    </tr>\n",
       "    <tr>\n",
       "      <th>mean</th>\n",
       "      <td>13.501231</td>\n",
       "      <td>23.465142</td>\n",
       "      <td>2005.457788</td>\n",
       "      <td>2005.515919</td>\n",
       "      <td>2408.043396</td>\n",
       "      <td>213.026684</td>\n",
       "      <td>1021.729112</td>\n",
       "      <td>125.963026</td>\n",
       "      <td>2.948697</td>\n",
       "      <td>2085.787771</td>\n",
       "    </tr>\n",
       "    <tr>\n",
       "      <th>std</th>\n",
       "      <td>62.262185</td>\n",
       "      <td>30.777048</td>\n",
       "      <td>14.707105</td>\n",
       "      <td>14.656509</td>\n",
       "      <td>7168.368428</td>\n",
       "      <td>1261.707640</td>\n",
       "      <td>2145.010604</td>\n",
       "      <td>453.577348</td>\n",
       "      <td>0.827642</td>\n",
       "      <td>5946.283685</td>\n",
       "    </tr>\n",
       "    <tr>\n",
       "      <th>min</th>\n",
       "      <td>1.000000</td>\n",
       "      <td>1.000000</td>\n",
       "      <td>1907.000000</td>\n",
       "      <td>1907.000000</td>\n",
       "      <td>0.000000</td>\n",
       "      <td>0.000000</td>\n",
       "      <td>0.000000</td>\n",
       "      <td>0.000000</td>\n",
       "      <td>0.844000</td>\n",
       "      <td>10.000000</td>\n",
       "    </tr>\n",
       "    <tr>\n",
       "      <th>25%</th>\n",
       "      <td>1.000000</td>\n",
       "      <td>3.000000</td>\n",
       "      <td>2000.000000</td>\n",
       "      <td>2000.000000</td>\n",
       "      <td>25.000000</td>\n",
       "      <td>1.000000</td>\n",
       "      <td>24.000000</td>\n",
       "      <td>1.000000</td>\n",
       "      <td>2.303500</td>\n",
       "      <td>34.000000</td>\n",
       "    </tr>\n",
       "    <tr>\n",
       "      <th>50%</th>\n",
       "      <td>1.000000</td>\n",
       "      <td>8.000000</td>\n",
       "      <td>2010.000000</td>\n",
       "      <td>2010.000000</td>\n",
       "      <td>165.000000</td>\n",
       "      <td>7.000000</td>\n",
       "      <td>175.000000</td>\n",
       "      <td>7.000000</td>\n",
       "      <td>2.965000</td>\n",
       "      <td>218.000000</td>\n",
       "    </tr>\n",
       "    <tr>\n",
       "      <th>75%</th>\n",
       "      <td>12.000000</td>\n",
       "      <td>29.000000</td>\n",
       "      <td>2016.000000</td>\n",
       "      <td>2016.000000</td>\n",
       "      <td>1469.500000</td>\n",
       "      <td>63.000000</td>\n",
       "      <td>980.000000</td>\n",
       "      <td>40.000000</td>\n",
       "      <td>3.615500</td>\n",
       "      <td>1412.500000</td>\n",
       "    </tr>\n",
       "    <tr>\n",
       "      <th>max</th>\n",
       "      <td>2527.000000</td>\n",
       "      <td>235.000000</td>\n",
       "      <td>2026.000000</td>\n",
       "      <td>2026.000000</td>\n",
       "      <td>161567.000000</td>\n",
       "      <td>74537.000000</td>\n",
       "      <td>28541.000000</td>\n",
       "      <td>19481.000000</td>\n",
       "      <td>4.702000</td>\n",
       "      <td>131067.000000</td>\n",
       "    </tr>\n",
       "  </tbody>\n",
       "</table>\n",
       "</div>"
      ],
      "text/plain": [
       "                eps     duration       startYr      finishYr        watched  \\\n",
       "count  14219.000000  9137.000000  14356.000000  14134.000000   14356.000000   \n",
       "mean      13.501231    23.465142   2005.457788   2005.515919    2408.043396   \n",
       "std       62.262185    30.777048     14.707105     14.656509    7168.368428   \n",
       "min        1.000000     1.000000   1907.000000   1907.000000       0.000000   \n",
       "25%        1.000000     3.000000   2000.000000   2000.000000      25.000000   \n",
       "50%        1.000000     8.000000   2010.000000   2010.000000     165.000000   \n",
       "75%       12.000000    29.000000   2016.000000   2016.000000    1469.500000   \n",
       "max     2527.000000   235.000000   2026.000000   2026.000000  161567.000000   \n",
       "\n",
       "           watching     wantWatch       dropped        rating          votes  \n",
       "count  14578.000000  14578.000000  14578.000000  12107.000000   12119.000000  \n",
       "mean     213.026684   1021.729112    125.963026      2.948697    2085.787771  \n",
       "std     1261.707640   2145.010604    453.577348      0.827642    5946.283685  \n",
       "min        0.000000      0.000000      0.000000      0.844000      10.000000  \n",
       "25%        1.000000     24.000000      1.000000      2.303500      34.000000  \n",
       "50%        7.000000    175.000000      7.000000      2.965000     218.000000  \n",
       "75%       63.000000    980.000000     40.000000      3.615500    1412.500000  \n",
       "max    74537.000000  28541.000000  19481.000000      4.702000  131067.000000  "
      ]
     },
     "execution_count": 26,
     "metadata": {},
     "output_type": "execute_result"
    }
   ],
   "source": [
    "anime.describe()\n",
    "#since max of the finish yr is 2020 and the movies may still be on going, fill the missing values with year 2020"
   ]
  },
  {
   "cell_type": "code",
   "execution_count": 20,
   "id": "aededd40",
   "metadata": {},
   "outputs": [],
   "source": [
    "#fill the nan values in finishyr with 2020(set place to True)\n",
    "anime.finishYr.fillna(2020, inplace = True)"
   ]
  },
  {
   "cell_type": "code",
   "execution_count": 21,
   "id": "86339031",
   "metadata": {},
   "outputs": [
    {
     "data": {
      "text/plain": [
       "title              0\n",
       "mediaType         63\n",
       "eps                0\n",
       "duration        4636\n",
       "ongoing            0\n",
       "startYr            0\n",
       "finishYr           0\n",
       "sznOfRelease    8554\n",
       "description     4468\n",
       "studios            0\n",
       "tags               0\n",
       "contentWarn        0\n",
       "watched          115\n",
       "watching           0\n",
       "wantWatch          0\n",
       "dropped            0\n",
       "rating             0\n",
       "votes              0\n",
       "dtype: int64"
      ]
     },
     "execution_count": 21,
     "metadata": {},
     "output_type": "execute_result"
    }
   ],
   "source": [
    "anime.isnull().sum()"
   ]
  },
  {
   "cell_type": "code",
   "execution_count": 22,
   "id": "bd131bab",
   "metadata": {},
   "outputs": [],
   "source": [
    "#feature engineering\n",
    "#creating a new column from another your dataset\n",
    "#lets call the column \"years_running\" to know how long the movie ran for"
   ]
  },
  {
   "cell_type": "code",
   "execution_count": 23,
   "id": "21d12ad5",
   "metadata": {},
   "outputs": [],
   "source": [
    "#correct/convert data type of some of the columns to int\n",
    "anime[\"startYr\"] = anime[\"startYr\"].astype(\"int64\")\n",
    "anime[\"finishYr\"] = anime[\"finishYr\"].astype(\"int64\")"
   ]
  },
  {
   "cell_type": "code",
   "execution_count": 27,
   "id": "402a28a9",
   "metadata": {},
   "outputs": [
    {
     "data": {
      "text/plain": [
       "title               0\n",
       "mediaType          63\n",
       "eps                 0\n",
       "duration         4636\n",
       "ongoing             0\n",
       "startYr             0\n",
       "finishYr            0\n",
       "sznOfRelease     8554\n",
       "description      4468\n",
       "studios             0\n",
       "tags                0\n",
       "contentWarn         0\n",
       "watched           115\n",
       "watching            0\n",
       "wantWatch           0\n",
       "dropped             0\n",
       "rating              0\n",
       "votes               0\n",
       "years_running       0\n",
       "dtype: int64"
      ]
     },
     "execution_count": 27,
     "metadata": {},
     "output_type": "execute_result"
    }
   ],
   "source": [
    "anime.isnull().sum()"
   ]
  },
  {
   "cell_type": "code",
   "execution_count": 28,
   "id": "6ab3739f",
   "metadata": {},
   "outputs": [],
   "source": [
    "#season of release has so many missing records and it would not be wise to drop it because we would be losing alot of data"
   ]
  },
  {
   "cell_type": "code",
   "execution_count": 29,
   "id": "32fe1461",
   "metadata": {},
   "outputs": [
    {
     "data": {
      "text/plain": [
       "Spring    1135\n",
       "Fall      1011\n",
       "Winter     717\n",
       "Summer     684\n",
       "Name: sznOfRelease, dtype: int64"
      ]
     },
     "execution_count": 29,
     "metadata": {},
     "output_type": "execute_result"
    }
   ],
   "source": [
    "anime[\"sznOfRelease\"].value_counts() #checking the value count"
   ]
  },
  {
   "cell_type": "code",
   "execution_count": 30,
   "id": "cdaa92cf",
   "metadata": {},
   "outputs": [],
   "source": [
    "#sznOfRelease: the seasons the movie was filled. It wont make sense to remove it. \n",
    "#We can just fill it with \"not known\", a place holder or abitrary name\n",
    "anime[\"sznOfRelease\"].fillna(\"not_known\", inplace = True)"
   ]
  },
  {
   "cell_type": "code",
   "execution_count": 35,
   "id": "05f56a8c",
   "metadata": {},
   "outputs": [],
   "source": [
    "#we could as well just fill it with a value, lets say \"not known\"\n",
    "anime[\"mediaType\"].fillna(\"not_known\", inplace = True)"
   ]
  },
  {
   "cell_type": "code",
   "execution_count": 36,
   "id": "7c746589",
   "metadata": {},
   "outputs": [],
   "source": [
    "#or fill it with the mean or mode of mediatype using replace method\n",
    "mode = anime[\"mediaType\"].mode()\n",
    "#anime[\"mediaType\"].fillna(anime[\"mediaType\"].mode()[0], inplace = True)\n",
    "#anime[\"mediaType\"].replace(np.nan, \"TV\", inplace = True)"
   ]
  },
  {
   "cell_type": "code",
   "execution_count": 37,
   "id": "f79ae384",
   "metadata": {},
   "outputs": [
    {
     "data": {
      "text/plain": [
       "array(['TV', 'Movie', 'Web', 'TV Special', 'OVA', 'not_known',\n",
       "       'DVD Special', 'Other', 'Music Video'], dtype=object)"
      ]
     },
     "execution_count": 37,
     "metadata": {},
     "output_type": "execute_result"
    }
   ],
   "source": [
    "anime[\"mediaType\"].unique()"
   ]
  },
  {
   "cell_type": "code",
   "execution_count": 46,
   "id": "0cdd89ad",
   "metadata": {},
   "outputs": [
    {
     "data": {
      "text/html": [
       "<div>\n",
       "<style scoped>\n",
       "    .dataframe tbody tr th:only-of-type {\n",
       "        vertical-align: middle;\n",
       "    }\n",
       "\n",
       "    .dataframe tbody tr th {\n",
       "        vertical-align: top;\n",
       "    }\n",
       "\n",
       "    .dataframe thead th {\n",
       "        text-align: right;\n",
       "    }\n",
       "</style>\n",
       "<table border=\"1\" class=\"dataframe\">\n",
       "  <thead>\n",
       "    <tr style=\"text-align: right;\">\n",
       "      <th></th>\n",
       "      <th>title</th>\n",
       "      <th>mediaType</th>\n",
       "      <th>eps</th>\n",
       "      <th>duration</th>\n",
       "      <th>ongoing</th>\n",
       "      <th>startYr</th>\n",
       "      <th>finishYr</th>\n",
       "      <th>sznOfRelease</th>\n",
       "      <th>description</th>\n",
       "      <th>studios</th>\n",
       "      <th>tags</th>\n",
       "      <th>contentWarn</th>\n",
       "      <th>watched</th>\n",
       "      <th>watching</th>\n",
       "      <th>wantWatch</th>\n",
       "      <th>dropped</th>\n",
       "      <th>rating</th>\n",
       "      <th>votes</th>\n",
       "      <th>years_running</th>\n",
       "    </tr>\n",
       "  </thead>\n",
       "  <tbody>\n",
       "    <tr>\n",
       "      <th>1</th>\n",
       "      <td>your name.</td>\n",
       "      <td>Movie</td>\n",
       "      <td>1.0</td>\n",
       "      <td>107.0</td>\n",
       "      <td>False</td>\n",
       "      <td>2016</td>\n",
       "      <td>2016</td>\n",
       "      <td>not_known</td>\n",
       "      <td>Mitsuha and Taki are two total strangers livin...</td>\n",
       "      <td>['CoMix Wave Films']</td>\n",
       "      <td>['Drama', 'Romance', 'Body Swapping', 'Gender ...</td>\n",
       "      <td>[]</td>\n",
       "      <td>58831.0</td>\n",
       "      <td>1453</td>\n",
       "      <td>21733</td>\n",
       "      <td>124</td>\n",
       "      <td>4.663</td>\n",
       "      <td>43960.0</td>\n",
       "      <td>0</td>\n",
       "    </tr>\n",
       "    <tr>\n",
       "      <th>3</th>\n",
       "      <td>Haikyuu!! Karasuno High School vs Shiratorizaw...</td>\n",
       "      <td>TV</td>\n",
       "      <td>10.0</td>\n",
       "      <td>NaN</td>\n",
       "      <td>False</td>\n",
       "      <td>2016</td>\n",
       "      <td>2016</td>\n",
       "      <td>Fall</td>\n",
       "      <td>Picking up where the second season ended, the ...</td>\n",
       "      <td>['Production I.G']</td>\n",
       "      <td>['Shounen', 'Sports', 'Animeism', 'School Club...</td>\n",
       "      <td>[]</td>\n",
       "      <td>25134.0</td>\n",
       "      <td>2183</td>\n",
       "      <td>8082</td>\n",
       "      <td>167</td>\n",
       "      <td>4.660</td>\n",
       "      <td>17422.0</td>\n",
       "      <td>0</td>\n",
       "    </tr>\n",
       "    <tr>\n",
       "      <th>6</th>\n",
       "      <td>Haikyuu!! Second Season</td>\n",
       "      <td>TV</td>\n",
       "      <td>25.0</td>\n",
       "      <td>NaN</td>\n",
       "      <td>False</td>\n",
       "      <td>2015</td>\n",
       "      <td>2016</td>\n",
       "      <td>Fall</td>\n",
       "      <td>After losing to Aoba Johsai at the Inter-High,...</td>\n",
       "      <td>['Production I.G']</td>\n",
       "      <td>['Shounen', 'Sports', 'School Club', 'School L...</td>\n",
       "      <td>[]</td>\n",
       "      <td>31329.0</td>\n",
       "      <td>3861</td>\n",
       "      <td>8664</td>\n",
       "      <td>264</td>\n",
       "      <td>4.639</td>\n",
       "      <td>22819.0</td>\n",
       "      <td>1</td>\n",
       "    </tr>\n",
       "  </tbody>\n",
       "</table>\n",
       "</div>"
      ],
      "text/plain": [
       "                                               title mediaType   eps  \\\n",
       "1                                         your name.     Movie   1.0   \n",
       "3  Haikyuu!! Karasuno High School vs Shiratorizaw...        TV  10.0   \n",
       "6                            Haikyuu!! Second Season        TV  25.0   \n",
       "\n",
       "   duration  ongoing  startYr  finishYr sznOfRelease  \\\n",
       "1     107.0    False     2016      2016    not_known   \n",
       "3       NaN    False     2016      2016         Fall   \n",
       "6       NaN    False     2015      2016         Fall   \n",
       "\n",
       "                                         description               studios  \\\n",
       "1  Mitsuha and Taki are two total strangers livin...  ['CoMix Wave Films']   \n",
       "3  Picking up where the second season ended, the ...    ['Production I.G']   \n",
       "6  After losing to Aoba Johsai at the Inter-High,...    ['Production I.G']   \n",
       "\n",
       "                                                tags contentWarn  watched  \\\n",
       "1  ['Drama', 'Romance', 'Body Swapping', 'Gender ...          []  58831.0   \n",
       "3  ['Shounen', 'Sports', 'Animeism', 'School Club...          []  25134.0   \n",
       "6  ['Shounen', 'Sports', 'School Club', 'School L...          []  31329.0   \n",
       "\n",
       "   watching  wantWatch  dropped  rating    votes  years_running  \n",
       "1      1453      21733      124   4.663  43960.0              0  \n",
       "3      2183       8082      167   4.660  17422.0              0  \n",
       "6      3861       8664      264   4.639  22819.0              1  "
      ]
     },
     "execution_count": 46,
     "metadata": {},
     "output_type": "execute_result"
    }
   ],
   "source": [
    "#view contentwarn with []\n",
    "anime[anime[\"contentWarn\"] == \"[]\"].head(3)"
   ]
  },
  {
   "cell_type": "code",
   "execution_count": 47,
   "id": "40340ece",
   "metadata": {},
   "outputs": [],
   "source": [
    "#replace [] with nan\n",
    "anime[\"contentWarn\"] = anime[\"contentWarn\"].replace(\"[]\", np.nan)"
   ]
  },
  {
   "cell_type": "code",
   "execution_count": 51,
   "id": "cbcdb402",
   "metadata": {},
   "outputs": [],
   "source": [
    "#fill the duration with the mean of the column\n",
    "anime[\"duration\"].replace(np.nan, anime[\"duration\"].mean(), inplace = True)"
   ]
  },
  {
   "cell_type": "code",
   "execution_count": 52,
   "id": "990887e8",
   "metadata": {},
   "outputs": [],
   "source": [
    "#fill the watched with the mean of the column\n",
    "anime[\"watched\"].replace(np.nan, anime[\"watched\"].mean(), inplace = True)"
   ]
  },
  {
   "cell_type": "code",
   "execution_count": 54,
   "id": "473cb05f",
   "metadata": {},
   "outputs": [],
   "source": [
    "#we could as well just fill it with a value, lets say \"not known\" for the remaining missing columns\n",
    "anime[\"description\"].fillna(\"not_known\", inplace = True)\n",
    "anime[\"studios\"].fillna(\"not_known\", inplace = True)\n",
    "anime[\"tags\"].fillna(\"not_known\", inplace = True)\n",
    "anime[\"contentWarn\"].fillna(\"not_known\", inplace = True)"
   ]
  },
  {
   "cell_type": "code",
   "execution_count": 60,
   "id": "ddf0a49c",
   "metadata": {},
   "outputs": [],
   "source": [
    "anime[\"watched\"] = anime[\"watched\"].astype(\"int64\")"
   ]
  },
  {
   "cell_type": "code",
   "execution_count": 61,
   "id": "f39265d9",
   "metadata": {},
   "outputs": [
    {
     "name": "stdout",
     "output_type": "stream",
     "text": [
      "<class 'pandas.core.frame.DataFrame'>\n",
      "RangeIndex: 12101 entries, 0 to 12100\n",
      "Data columns (total 19 columns):\n",
      " #   Column         Non-Null Count  Dtype  \n",
      "---  ------         --------------  -----  \n",
      " 0   title          12101 non-null  object \n",
      " 1   mediaType      12101 non-null  object \n",
      " 2   eps            12101 non-null  float64\n",
      " 3   duration       12101 non-null  float64\n",
      " 4   ongoing        12101 non-null  bool   \n",
      " 5   startYr        12101 non-null  int64  \n",
      " 6   finishYr       12101 non-null  int64  \n",
      " 7   sznOfRelease   12101 non-null  object \n",
      " 8   description    12101 non-null  object \n",
      " 9   studios        12101 non-null  object \n",
      " 10  tags           12101 non-null  object \n",
      " 11  contentWarn    12101 non-null  object \n",
      " 12  watched        12101 non-null  int64  \n",
      " 13  watching       12101 non-null  int64  \n",
      " 14  wantWatch      12101 non-null  int64  \n",
      " 15  dropped        12101 non-null  int64  \n",
      " 16  rating         12101 non-null  float64\n",
      " 17  votes          12101 non-null  float64\n",
      " 18  years_running  12101 non-null  int64  \n",
      "dtypes: bool(1), float64(4), int64(7), object(7)\n",
      "memory usage: 1.7+ MB\n"
     ]
    }
   ],
   "source": [
    "anime.info()"
   ]
  },
  {
   "cell_type": "code",
   "execution_count": 62,
   "id": "1b63721b",
   "metadata": {},
   "outputs": [],
   "source": [
    "#saving the file as csv\n",
    "anime.to_csv(\"anime_newfile.csv\")\n",
    "#saving the file as excel\n",
    "anime.to_excel(\"anime_xnewfile.xlsx\")"
   ]
  },
  {
   "cell_type": "code",
   "execution_count": null,
   "id": "4c377bac",
   "metadata": {},
   "outputs": [],
   "source": [
    "### TALK ABOUT DATA PRIVACY NOT SHARING INFO, SECURITY OF SOME KIND OF DATA"
   ]
  },
  {
   "cell_type": "markdown",
   "id": "acdf2bab",
   "metadata": {},
   "source": [
    "## Using Covid Data to explain date time"
   ]
  },
  {
   "cell_type": "code",
   "execution_count": 73,
   "id": "e9725dd6",
   "metadata": {},
   "outputs": [],
   "source": [
    "#get the dates explaing using covid data\n",
    "covid2 = pd.read_csv(r\"C:\\Users\\User 1\\Desktop\\Ailead\\covid2020.csv\")"
   ]
  },
  {
   "cell_type": "code",
   "execution_count": 74,
   "id": "58592df4",
   "metadata": {},
   "outputs": [
    {
     "data": {
      "text/html": [
       "<div>\n",
       "<style scoped>\n",
       "    .dataframe tbody tr th:only-of-type {\n",
       "        vertical-align: middle;\n",
       "    }\n",
       "\n",
       "    .dataframe tbody tr th {\n",
       "        vertical-align: top;\n",
       "    }\n",
       "\n",
       "    .dataframe thead th {\n",
       "        text-align: right;\n",
       "    }\n",
       "</style>\n",
       "<table border=\"1\" class=\"dataframe\">\n",
       "  <thead>\n",
       "    <tr style=\"text-align: right;\">\n",
       "      <th></th>\n",
       "      <th>date</th>\n",
       "      <th>county</th>\n",
       "      <th>state</th>\n",
       "      <th>fips</th>\n",
       "      <th>cases</th>\n",
       "      <th>deaths</th>\n",
       "    </tr>\n",
       "  </thead>\n",
       "  <tbody>\n",
       "    <tr>\n",
       "      <th>0</th>\n",
       "      <td>21/01/2020</td>\n",
       "      <td>Snohomish</td>\n",
       "      <td>Washington</td>\n",
       "      <td>NaN</td>\n",
       "      <td>1</td>\n",
       "      <td>0.0</td>\n",
       "    </tr>\n",
       "    <tr>\n",
       "      <th>1</th>\n",
       "      <td>22/01/2020</td>\n",
       "      <td>Snohomish</td>\n",
       "      <td>NaN</td>\n",
       "      <td>NaN</td>\n",
       "      <td>1</td>\n",
       "      <td>0.0</td>\n",
       "    </tr>\n",
       "  </tbody>\n",
       "</table>\n",
       "</div>"
      ],
      "text/plain": [
       "         date     county       state  fips  cases  deaths\n",
       "0  21/01/2020  Snohomish  Washington   NaN      1     0.0\n",
       "1  22/01/2020  Snohomish         NaN   NaN      1     0.0"
      ]
     },
     "execution_count": 74,
     "metadata": {},
     "output_type": "execute_result"
    }
   ],
   "source": [
    "covid2.head(2)"
   ]
  },
  {
   "cell_type": "code",
   "execution_count": 75,
   "id": "10109ba4",
   "metadata": {},
   "outputs": [
    {
     "name": "stdout",
     "output_type": "stream",
     "text": [
      "<class 'pandas.core.frame.DataFrame'>\n",
      "RangeIndex: 884737 entries, 0 to 884736\n",
      "Data columns (total 6 columns):\n",
      " #   Column  Non-Null Count   Dtype  \n",
      "---  ------  --------------   -----  \n",
      " 0   date    884737 non-null  object \n",
      " 1   county  884737 non-null  object \n",
      " 2   state   884735 non-null  object \n",
      " 3   fips    876469 non-null  float64\n",
      " 4   cases   884737 non-null  int64  \n",
      " 5   deaths  865976 non-null  float64\n",
      "dtypes: float64(2), int64(1), object(3)\n",
      "memory usage: 40.5+ MB\n"
     ]
    }
   ],
   "source": [
    "covid2.info()"
   ]
  },
  {
   "cell_type": "code",
   "execution_count": 76,
   "id": "5790ef97",
   "metadata": {},
   "outputs": [],
   "source": [
    "#convert to pandas date time type\n",
    "covid2[\"date\"] = pd.to_datetime(covid2[\"date\"], format = \"%d/%m/%Y\")"
   ]
  },
  {
   "cell_type": "code",
   "execution_count": 77,
   "id": "fa004f22",
   "metadata": {},
   "outputs": [
    {
     "name": "stdout",
     "output_type": "stream",
     "text": [
      "<class 'pandas.core.frame.DataFrame'>\n",
      "RangeIndex: 884737 entries, 0 to 884736\n",
      "Data columns (total 6 columns):\n",
      " #   Column  Non-Null Count   Dtype         \n",
      "---  ------  --------------   -----         \n",
      " 0   date    884737 non-null  datetime64[ns]\n",
      " 1   county  884737 non-null  object        \n",
      " 2   state   884735 non-null  object        \n",
      " 3   fips    876469 non-null  float64       \n",
      " 4   cases   884737 non-null  int64         \n",
      " 5   deaths  865976 non-null  float64       \n",
      "dtypes: datetime64[ns](1), float64(2), int64(1), object(2)\n",
      "memory usage: 40.5+ MB\n"
     ]
    }
   ],
   "source": [
    "covid2.info()"
   ]
  },
  {
   "cell_type": "code",
   "execution_count": 78,
   "id": "d83128e0",
   "metadata": {},
   "outputs": [
    {
     "data": {
      "text/plain": [
       "date      datetime64[ns]\n",
       "county            object\n",
       "state             object\n",
       "fips             float64\n",
       "cases              int64\n",
       "deaths           float64\n",
       "dtype: object"
      ]
     },
     "execution_count": 78,
     "metadata": {},
     "output_type": "execute_result"
    }
   ],
   "source": [
    "covid2.dtypes"
   ]
  },
  {
   "cell_type": "code",
   "execution_count": 79,
   "id": "c8d22858",
   "metadata": {},
   "outputs": [],
   "source": [
    "#get the year out by creating another columns\n",
    "covid2[\"year\"] = covid2[\"date\"].dt.year\n",
    "covid2[\"month\"] = covid2[\"date\"].dt.month\n",
    "covid2[\"day\"] = covid2[\"date\"].dt.day"
   ]
  },
  {
   "cell_type": "code",
   "execution_count": 80,
   "id": "360ea5c5",
   "metadata": {},
   "outputs": [
    {
     "data": {
      "text/plain": [
       "date          0\n",
       "county        0\n",
       "state         2\n",
       "fips       8268\n",
       "cases         0\n",
       "deaths    18761\n",
       "year          0\n",
       "month         0\n",
       "day           0\n",
       "dtype: int64"
      ]
     },
     "execution_count": 80,
     "metadata": {},
     "output_type": "execute_result"
    }
   ],
   "source": [
    "covid2.isnull().sum()"
   ]
  },
  {
   "cell_type": "code",
   "execution_count": 81,
   "id": "64dd3cc3",
   "metadata": {},
   "outputs": [
    {
     "data": {
      "text/html": [
       "<div>\n",
       "<style scoped>\n",
       "    .dataframe tbody tr th:only-of-type {\n",
       "        vertical-align: middle;\n",
       "    }\n",
       "\n",
       "    .dataframe tbody tr th {\n",
       "        vertical-align: top;\n",
       "    }\n",
       "\n",
       "    .dataframe thead th {\n",
       "        text-align: right;\n",
       "    }\n",
       "</style>\n",
       "<table border=\"1\" class=\"dataframe\">\n",
       "  <thead>\n",
       "    <tr style=\"text-align: right;\">\n",
       "      <th></th>\n",
       "      <th>date</th>\n",
       "      <th>county</th>\n",
       "      <th>state</th>\n",
       "      <th>fips</th>\n",
       "      <th>cases</th>\n",
       "      <th>deaths</th>\n",
       "      <th>year</th>\n",
       "      <th>month</th>\n",
       "      <th>day</th>\n",
       "    </tr>\n",
       "  </thead>\n",
       "  <tbody>\n",
       "    <tr>\n",
       "      <th>0</th>\n",
       "      <td>2020-01-21</td>\n",
       "      <td>Snohomish</td>\n",
       "      <td>Washington</td>\n",
       "      <td>NaN</td>\n",
       "      <td>1</td>\n",
       "      <td>0.0</td>\n",
       "      <td>2020</td>\n",
       "      <td>1</td>\n",
       "      <td>21</td>\n",
       "    </tr>\n",
       "    <tr>\n",
       "      <th>1</th>\n",
       "      <td>2020-01-22</td>\n",
       "      <td>Snohomish</td>\n",
       "      <td>NaN</td>\n",
       "      <td>NaN</td>\n",
       "      <td>1</td>\n",
       "      <td>0.0</td>\n",
       "      <td>2020</td>\n",
       "      <td>1</td>\n",
       "      <td>22</td>\n",
       "    </tr>\n",
       "    <tr>\n",
       "      <th>2</th>\n",
       "      <td>2020-01-23</td>\n",
       "      <td>Snohomish</td>\n",
       "      <td>Nigeria</td>\n",
       "      <td>53061.0</td>\n",
       "      <td>1</td>\n",
       "      <td>0.0</td>\n",
       "      <td>2020</td>\n",
       "      <td>1</td>\n",
       "      <td>23</td>\n",
       "    </tr>\n",
       "    <tr>\n",
       "      <th>3</th>\n",
       "      <td>2020-01-24</td>\n",
       "      <td>Cook</td>\n",
       "      <td>Illinois</td>\n",
       "      <td>17031.0</td>\n",
       "      <td>1</td>\n",
       "      <td>0.0</td>\n",
       "      <td>2020</td>\n",
       "      <td>1</td>\n",
       "      <td>24</td>\n",
       "    </tr>\n",
       "    <tr>\n",
       "      <th>4</th>\n",
       "      <td>2020-01-24</td>\n",
       "      <td>Snohomish</td>\n",
       "      <td>NaN</td>\n",
       "      <td>53061.0</td>\n",
       "      <td>1</td>\n",
       "      <td>0.0</td>\n",
       "      <td>2020</td>\n",
       "      <td>1</td>\n",
       "      <td>24</td>\n",
       "    </tr>\n",
       "  </tbody>\n",
       "</table>\n",
       "</div>"
      ],
      "text/plain": [
       "        date     county       state     fips  cases  deaths  year  month  day\n",
       "0 2020-01-21  Snohomish  Washington      NaN      1     0.0  2020      1   21\n",
       "1 2020-01-22  Snohomish         NaN      NaN      1     0.0  2020      1   22\n",
       "2 2020-01-23  Snohomish     Nigeria  53061.0      1     0.0  2020      1   23\n",
       "3 2020-01-24       Cook    Illinois  17031.0      1     0.0  2020      1   24\n",
       "4 2020-01-24  Snohomish         NaN  53061.0      1     0.0  2020      1   24"
      ]
     },
     "execution_count": 81,
     "metadata": {},
     "output_type": "execute_result"
    }
   ],
   "source": [
    "covid2.head()"
   ]
  },
  {
   "cell_type": "code",
   "execution_count": 82,
   "id": "a98d68b6",
   "metadata": {},
   "outputs": [],
   "source": [
    "covid2[\"fips\"].fillna(\"44\", inplace = True)"
   ]
  },
  {
   "cell_type": "code",
   "execution_count": 83,
   "id": "bdc53994",
   "metadata": {},
   "outputs": [
    {
     "data": {
      "text/plain": [
       "date          0\n",
       "county        0\n",
       "state         2\n",
       "fips          0\n",
       "cases         0\n",
       "deaths    18761\n",
       "year          0\n",
       "month         0\n",
       "day           0\n",
       "dtype: int64"
      ]
     },
     "execution_count": 83,
     "metadata": {},
     "output_type": "execute_result"
    }
   ],
   "source": [
    "covid2.isnull().sum()"
   ]
  },
  {
   "cell_type": "code",
   "execution_count": 84,
   "id": "2a9bcede",
   "metadata": {},
   "outputs": [
    {
     "data": {
      "text/plain": [
       "0         Washington\n",
       "1         Washington\n",
       "2            Nigeria\n",
       "3           Illinois\n",
       "4           Illinois\n",
       "             ...    \n",
       "884732       Wyoming\n",
       "884733       Wyoming\n",
       "884734       Wyoming\n",
       "884735       Wyoming\n",
       "884736       Wyoming\n",
       "Name: state, Length: 884737, dtype: object"
      ]
     },
     "execution_count": 84,
     "metadata": {},
     "output_type": "execute_result"
    }
   ],
   "source": [
    "ffill = covid2[\"state\"].fillna(method = \"ffill\")\n",
    "ffill"
   ]
  },
  {
   "cell_type": "code",
   "execution_count": 85,
   "id": "4788660a",
   "metadata": {},
   "outputs": [
    {
     "data": {
      "text/html": [
       "<div>\n",
       "<style scoped>\n",
       "    .dataframe tbody tr th:only-of-type {\n",
       "        vertical-align: middle;\n",
       "    }\n",
       "\n",
       "    .dataframe tbody tr th {\n",
       "        vertical-align: top;\n",
       "    }\n",
       "\n",
       "    .dataframe thead th {\n",
       "        text-align: right;\n",
       "    }\n",
       "</style>\n",
       "<table border=\"1\" class=\"dataframe\">\n",
       "  <thead>\n",
       "    <tr style=\"text-align: right;\">\n",
       "      <th></th>\n",
       "      <th>date</th>\n",
       "      <th>county</th>\n",
       "      <th>state</th>\n",
       "      <th>fips</th>\n",
       "      <th>cases</th>\n",
       "      <th>deaths</th>\n",
       "      <th>year</th>\n",
       "      <th>month</th>\n",
       "      <th>day</th>\n",
       "    </tr>\n",
       "  </thead>\n",
       "  <tbody>\n",
       "    <tr>\n",
       "      <th>0</th>\n",
       "      <td>2020-01-21</td>\n",
       "      <td>Snohomish</td>\n",
       "      <td>Washington</td>\n",
       "      <td>44</td>\n",
       "      <td>1</td>\n",
       "      <td>0.0</td>\n",
       "      <td>2020</td>\n",
       "      <td>1</td>\n",
       "      <td>21</td>\n",
       "    </tr>\n",
       "    <tr>\n",
       "      <th>1</th>\n",
       "      <td>2020-01-22</td>\n",
       "      <td>Snohomish</td>\n",
       "      <td>NaN</td>\n",
       "      <td>44</td>\n",
       "      <td>1</td>\n",
       "      <td>0.0</td>\n",
       "      <td>2020</td>\n",
       "      <td>1</td>\n",
       "      <td>22</td>\n",
       "    </tr>\n",
       "    <tr>\n",
       "      <th>2</th>\n",
       "      <td>2020-01-23</td>\n",
       "      <td>Snohomish</td>\n",
       "      <td>Nigeria</td>\n",
       "      <td>53061.0</td>\n",
       "      <td>1</td>\n",
       "      <td>0.0</td>\n",
       "      <td>2020</td>\n",
       "      <td>1</td>\n",
       "      <td>23</td>\n",
       "    </tr>\n",
       "    <tr>\n",
       "      <th>3</th>\n",
       "      <td>2020-01-24</td>\n",
       "      <td>Cook</td>\n",
       "      <td>Illinois</td>\n",
       "      <td>17031.0</td>\n",
       "      <td>1</td>\n",
       "      <td>0.0</td>\n",
       "      <td>2020</td>\n",
       "      <td>1</td>\n",
       "      <td>24</td>\n",
       "    </tr>\n",
       "    <tr>\n",
       "      <th>4</th>\n",
       "      <td>2020-01-24</td>\n",
       "      <td>Snohomish</td>\n",
       "      <td>NaN</td>\n",
       "      <td>53061.0</td>\n",
       "      <td>1</td>\n",
       "      <td>0.0</td>\n",
       "      <td>2020</td>\n",
       "      <td>1</td>\n",
       "      <td>24</td>\n",
       "    </tr>\n",
       "  </tbody>\n",
       "</table>\n",
       "</div>"
      ],
      "text/plain": [
       "        date     county       state     fips  cases  deaths  year  month  day\n",
       "0 2020-01-21  Snohomish  Washington       44      1     0.0  2020      1   21\n",
       "1 2020-01-22  Snohomish         NaN       44      1     0.0  2020      1   22\n",
       "2 2020-01-23  Snohomish     Nigeria  53061.0      1     0.0  2020      1   23\n",
       "3 2020-01-24       Cook    Illinois  17031.0      1     0.0  2020      1   24\n",
       "4 2020-01-24  Snohomish         NaN  53061.0      1     0.0  2020      1   24"
      ]
     },
     "execution_count": 85,
     "metadata": {},
     "output_type": "execute_result"
    }
   ],
   "source": [
    "covid2.head()"
   ]
  },
  {
   "cell_type": "code",
   "execution_count": 86,
   "id": "b443816f",
   "metadata": {},
   "outputs": [
    {
     "data": {
      "text/plain": [
       "0         Washington\n",
       "1            Nigeria\n",
       "2            Nigeria\n",
       "3           Illinois\n",
       "4         California\n",
       "             ...    \n",
       "884732       Wyoming\n",
       "884733       Wyoming\n",
       "884734       Wyoming\n",
       "884735       Wyoming\n",
       "884736       Wyoming\n",
       "Name: state, Length: 884737, dtype: object"
      ]
     },
     "execution_count": 86,
     "metadata": {},
     "output_type": "execute_result"
    }
   ],
   "source": [
    "bfill = covid2[\"state\"].fillna(method = \"bfill\")\n",
    "bfill"
   ]
  },
  {
   "cell_type": "code",
   "execution_count": null,
   "id": "1361b482",
   "metadata": {},
   "outputs": [],
   "source": []
  }
 ],
 "metadata": {
  "kernelspec": {
   "display_name": "Python 3 (ipykernel)",
   "language": "python",
   "name": "python3"
  },
  "language_info": {
   "codemirror_mode": {
    "name": "ipython",
    "version": 3
   },
   "file_extension": ".py",
   "mimetype": "text/x-python",
   "name": "python",
   "nbconvert_exporter": "python",
   "pygments_lexer": "ipython3",
   "version": "3.9.12"
  }
 },
 "nbformat": 4,
 "nbformat_minor": 5
}
