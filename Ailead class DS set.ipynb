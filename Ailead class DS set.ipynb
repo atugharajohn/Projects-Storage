{
 "cells": [
  {
   "cell_type": "code",
   "execution_count": 10,
   "id": "1fdc4562",
   "metadata": {},
   "outputs": [],
   "source": [
    "path = open(\"ailead sample.csv\", \"r\") #reading the file using open function"
   ]
  },
  {
   "cell_type": "code",
   "execution_count": 11,
   "id": "0a8a7b9c",
   "metadata": {},
   "outputs": [],
   "source": [
    "file = path.read()\n",
    "path.close()  "
   ]
  },
  {
   "cell_type": "code",
   "execution_count": 12,
   "id": "8ade7418",
   "metadata": {},
   "outputs": [
    {
     "data": {
      "text/plain": [
       "'Address Street,Address City,Address Postcode,Age (Years),Distance Commuted to Work (miles),Employer Company,Credit Card Start Date,Credit Card Expiry Date,Credit Card Number,Credit Card CVV,Dependants,First Name,Bank IBAN,Last Name,Marital Status,Yearly Pension (GBP),Retired,Yearly Salary (GBP),Sex,Vehicle Make,Vehicle Model,Vehicle Year,Vehicle Type\\n70 Lydia isle,Lake Conor,S71 7XZ,89,0,N/A,Aug-18,Nov-27,6.76374E+11,875,3,Kieran,GB62PQKB71416034141571,Wilson,married or civil partner,7257,TRUE,72838,Male,Hyundai,Bonneville,2009,Pickup\\n00 Wheeler wells,Chapmanton,L2 7BT,46,13.72,Begum-Williams,08-Dec,Nov-26,4.52944E+15,583,1,Jonathan,GB37UMCO54540228728019,Thomas,married or civil partner,0,FALSE,54016,Male,Nissan,ATS,1996,Coupe\\nStudio 33K Joel walk,Randallborough,ME3N 1GH,22,16.02,Hill-Wright,Nov-19,Jul-27,4.09173E+18,422,1,Antony,GB40CVUE84011545859591,Jones,married or civil partner,0,FALSE,68049,Male,GMC,Achieva,2015,\"Convertible, Coupe\"\\nStudio 46S Bethany lights,East Reece,E10 9RJ,56,19.35,Green LLC,Oct-17,Apr-18,4.67133E+18,669,2,Henry,GB40YPKK71613332239280,Shaw,married or civil partner,0,FALSE,91337,Male,Scion,F150 SuperCrew Cab,1994,Pickup\\nFlat 3 Christine views,Fletcherstad,WS2 9SN,57,5.94,\"Hill, Evans and Harrison\",Apr-19,Nov-27,2.24509E+15,659,2,Jodie,GB95WAYW31715898077181,O\\'Brien,married or civil partner,0,FALSE,18446,Female,Buick,Outback,2020,SUV\\nStudio 43M Emily rapid,West Derekborough,W1J 0DL,23,10.73,Gill and Sons,Mar-15,May-15,4.48521E+18,123,3,Ryan,GB29SSDY05529526374313,Clarke,married or civil partner,0,FALSE,38100,Male,Lexus,Paceman,2004,Van/Minivan\\n24 Heather locks,New Mathew,WD10 1LX,43,20.05,Clark Group,07-Dec,Mar-29,3.69707E+13,622,3,Julian,GB92PWOB18937027850061,Potter,single,0,FALSE,96645,Male,Lexus,S-Series,1998,Van/Minivan\\n81 Goodwin dam,Griffinstad,G3 7ZX,67,0,N/A,Jul-15,Apr-27,2.13199E+14,389,1,Clive,GB04VSAZ69128049616822,Evans,single,28075,TRUE,27964,Male,Volvo,Express 3500 Passenger,2013,SUV\\n798 Yates crescent,Port Lisa,LS0M 7UU,33,15.29,Richardson and Sons,May-13,Aug-20,3.01676E+13,849,2,Joan,GB80GFKU97154647098789,Stanley,married or civil partner,0,FALSE,63433,Female,Volkswagen,Town & Country,2010,\"Sedan, Coupe, Hatchback\"\\nStudio 77c Gail tunnel,Garyberg,S7W 4DW,87,0,N/A,Oct-13,Oct-13,2.13198E+14,766,2,Malcolm,GB74TXVQ82130006568515,Hamilton,single,29587,TRUE,66157,Male,Dodge,Impreza,2015,Sedan\\n2 Robert squares,North Martyn,LN2 4JH,64,11.11,Gray-James,May-19,Mar-29,4.70749E+15,843,3,Kimberley,GB95JQAU66555098753975,Turner,married or civil partner,0,FALSE,39983,Female,Volvo,Tundra Double Cab,2011,Sedan\\n6 Frances flats,Lake Amberchester,NE5E 5AD,68,7.5,Mitchell-Brown,Jun-18,Dec-22,4.0284E+12,404,2,Stuart,GB52JKQX17539370637650,Page,married or civil partner,0,FALSE,24062,Male,Volkswagen,Stratus,2012,SUV\\nFlat 29 Liam greens,West Liamview,S78 9WZ,45,20.21,\"Bailey, Gibson and Wallace\",Mar-19,Feb-23,3.74756E+14,237,3,Hollie,GB32JFUZ85486983593277,Gray,single,0,FALSE,97948,Female,Ford,1500 Regular Cab,2008,Convertible\\nStudio 75 Matthew tunnel,Patelville,L85 4LT,56,9.48,Jones Inc,Apr-17,Dec-20,3.5555E+15,69,3,Lawrence,GB80OOIU80240902240471,Smith,married or civil partner,0,FALSE,32281,Male,Lincoln,Sierra 2500 HD Crew Cab,2016,Pickup\\n8 Bray row,Daviestown,S2H 5RE,78,0,N/A,10-Dec,Dec-19,4.54841E+15,22,4,Jade,GB76WOAN35375600936407,John,married or civil partner,24712,TRUE,59891,Female,Nissan,LC,2012,SUV\\n8 Lesley estates,South Albertmouth,L1D 2GY,55,17.53,Butler PLC,Jun-14,Apr-29,4.03999E+12,885,2,Ronald,GB63SWMR56023428926868,Pearce,married or civil partner,0,FALSE,78214,Male,Acura,S10 Regular Cab,1999,Pickup\\n6 Karl path,Lake Kateborough,L2 1YW,40,18.76,White PLC,Jul-14,Feb-17,3.58197E+15,388,3,Josephine,GB95JPHC00666850049083,Saunders,married or civil partner,0,FALSE,86961,Female,Hyundai,Colorado Extended Cab,2017,Sedan\\nStudio 9 Joan tunnel,Birdview,LS3 9ZL,28,6.65,McCarthy and Sons,Mar-14,Jun-23,6.01173E+15,588,2,Tina,GB02YMXX98886109551024,Thornton,single,0,FALSE,20918,Female,Mercedes-Benz,RX,1992,\"Hatchback, Convertible\"\\nStudio 24F Cartwright mission,Lake Cheryl,EX5 7QJ,64,11.2,Dickinson LLC,Sep-13,Apr-16,4.5234E+15,592,3,Lauren,GB13NXGK90881253380683,Smith,married or civil partner,0,FALSE,40432,Female,Nissan,Ram 3500 Quad Cab,2019,\"Wagon, Sedan\"\\n409 Julie cliff,North Benjamin,SK1 8EA,61,15.12,Pugh-Ahmed,12-Nov,Aug-19,4.34608E+18,981,2,Tracy,GB46TBUI88094503861317,White,married or civil partner,0,FALSE,62377,Female,Chevrolet,Navigator,2008,Van/Minivan\\nStudio 98v Watson manors,Parkershire,E58 7QE,61,18.23,Wall Inc,Jul-18,Jun-20,4.20259E+12,215,2,Lynne,GB95OJRW46308657171586,Smith,married or civil partner,0,FALSE,83114,Female,Ford,Sierra 2500 HD Regular Cab,2009,Wagon\\n9 Hargreaves loaf,New Keith,OX85 1NN,40,11.98,Frost-Howard,Sep-18,Feb-23,3.57768E+15,426,,Sian,GB24RDII19341179851384,Marshall,married or civil partner,0,FALSE,44434,Female,MAZDA,Tundra Regular Cab,2001,Sedan\\nStudio 5 Morgan shore,Murrayshire,N2B 6BQ,75,17.76,Taylor-Price,Dec-17,Jul-25,3.5952E+15,779,1,Lindsey,GB13LRBV70338974739597,Williams,single,0,FALSE,79823,Female,Toyota,Silverado 3500 HD Crew Cab,2008,SUV\\nFlat 7 Nicholas extensions,Claireside,G1 8ND,30,17.22,Chapman-Roberts,07-Dec,Jan-24,4.42477E+15,844,2,Billy,GB20SYOG64532798985587,Turner,single,0,FALSE,76038,Male,Mitsubishi,Optima Hybrid,2002,Sedan\\nStudio 3 Duncan spurs,Briggsside,E0T 1XP,52,17.57,\"Hall, Chambers and Hussain\",Sep-20,May-21,3.4107E+14,653,2,Elliot,GB33EXFR41119491231301,Iqbal,widowed,0,FALSE,78499,Male,Chrysler,Camry,2000,Coupe\\n4 Mitchell ranch,Lake Josephinechester,N5S 7YJ,58,10.68,Hall-Bishop,Sep-20,Feb-28,3.53984E+15,555,1,Jessica,GB34JTYZ40582231795531,Carr,married or civil partner,0,FALSE,37866,Female,Dodge,Talon,2014,\"Coupe, Convertible\"\\n235 Smith path,Singhmouth,WN71 7XD,32,16.42,\"Rogers, Richards and Thomas\",May-15,Apr-24,6.01115E+15,190,2,Caroline,GB02HCXE02205190652485,Clarke,married or civil partner,0,FALSE,70655,Female,Hyundai,Monte Carlo,2011,\"Sedan, Wagon\"\\nStudio 76l Carr mill,South Francesborough,W7 1DR,36,17.64,\"Henry, Gibson and French\",09-Dec,Apr-17,5.81934E+11,7258,3,Jack,GB64SWHN93102765498771,Porter,single,0,FALSE,78955,Male,Kia,X3,2018,Pickup\\n385 Ward rue,Abigailport,AL0 4BW,18,19.49,\"Barnett, Jones and Jones\",Feb-13,Mar-14,2.71816E+15,5547,2,Gavin,GB15JSIN49600511879663,Chapman,married or civil partner,0,FALSE,92384,Male,Nissan,Canyon Extended Cab,2014,Coupe\\nFlat 59T Barry loop,Lindaton,B60 3LJ,80,19.67,\"Clark, Evans and Lloyd\",May-18,Jan-27,4.88028E+12,20,1,Dennis,GB67BTBB81025265475465,Johnson,married or civil partner,0,FALSE,93744,Male,Nissan,Spirit,2006,Pickup\\n4 Patel curve,Robertstad,DT33 1UL,55,14.53,\"May, Bennett and Wood\",07-Dec,Mar-24,3.5451E+15,106,2,Rhys,GB96MSSE31514251878599,George,married or civil partner,0,FALSE,58770,Male,Aston Martin,Sierra 1500 Crew Cab,1993,Hatchback\\n949 Kirsty walk,Rickymouth,N77 4DX,65,7.21,\"Warren, Burton and Spencer\",08-Dec,Apr-17,3.53274E+15,570,1,Denis,GB61PVEV06020291833305,Brown,married or civil partner,0,FALSE,22959,Male,Ford,Yukon XL 1500,2007,\"Wagon, Sedan, Coupe\"\\nFlat 47 Godfrey road,West Brianfurt,S6G 3HB,82,0,N/A,Jan-18,Jul-28,5.54347E+15,465,5,Helen,GB42TNFG09550061109890,Kaur,single,28731,TRUE,80297,Female,Acura,G,1998,SUV\\n004 Julian estates,Colinhaven,KT54 9TR,39,18.81,\"Kay, Chapman and Wilson\",Jan-16,Aug-25,4.10455E+15,615,2,Jeffrey,GB34LHKJ06609001114424,Humphreys,divorced,0,FALSE,87308,Male,Saab,Transit Connect Cargo,2005,SUV\\nFlat 32 Sharp prairie,Marcusstad,AB57 0ZN,83,0,N/A,02-Dec,Mar-24,2.42614E+15,453,2,Adam,GB76KUNW91632428208056,Wright,married or civil partner,30115,TRUE,70109,Male,GMC,Frontier Crew Cab,1998,Van/Minivan\\n8 Michael cliff,Joanchester,B8E 0XR,65,0,N/A,May-14,Dec-27,3.0254E+13,479,2,Danielle,GB77BKAA88748168755170,Robertson,married or civil partner,8022,TRUE,57953,Female,Jaguar,Odyssey,1997,Hatchback\\nStudio 63 Rachel underpass,Gallaghermouth,G99 3GH,42,12.44,Stevenson Group,Jul-13,Aug-13,4.61313E+12,926,2,Joyce,GB09RXOP90874575465239,Brown,married or civil partner,0,FALSE,46864,Female,Mercedes-Benz,Veloster,2011,Convertible\\n7 Williams forks,Cookside,N6 2YZ,91,0,N/A,Jun-19,Nov-21,4.23205E+12,752,2,Vanessa,GB75HZCQ22453289425740,Kay,single,30866,TRUE,81220,Female,Chevrolet,Viper,2015,Pickup\\n75 Gordon courts,Lorraineberg,L56 2JA,35,15.36,Wright and Sons,Oct-19,Jul-21,6.0112E+15,660,4,Dawn,GB86CXKN23940068226539,Young,married or civil partner,0,FALSE,63857,Female,Chevrolet,S2000,2002,SUV\\nStudio 09F Allen road,Port Rachel,TS9 1TL,54,9.85,\"Thomson, Kirby and Barker\",May-19,Aug-23,3.58377E+15,113,1,Darren,GB12URYF32648832649281,Nicholls,married or civil partner,0,FALSE,33987,Male,Volkswagen,300,2015,Sedan\\nStudio 7 Jemma cliff,Turnerbury,B98 1HT,20,7.65,Smith-Smith,04-Dec,Jan-24,4.93002E+15,373,2,Lauren,GB41AMAJ35865980015154,Martin,widowed,0,FALSE,24652,Female,GMC,Phaeton,2008,SUV\\nFlat 08d Ward squares,Phillipside,BB3A 9PE,51,6.45,Clarke Inc,01-Dec,Sep-23,2.13158E+14,542,2,Melanie,GB14FFMB81152248185033,O\\'Brien,married or civil partner,0,FALSE,20206,Female,Pontiac,2500 Regular Cab,1997,Sedan\\n28 Oliver fort,Melissaport,DY95 0UG,42,20.08,Smith PLC,Dec-13,Nov-14,4.02867E+15,326,2,Vanessa,GB50MQKE98379126728837,Hussain,single,0,FALSE,96882,Female,Lexus,TrailBlazer,2001,Van/Minivan\\nFlat 39 Shaun dam,Martinbury,N9W 3EN,43,17.96,Sutton LLC,Jun-16,Jan-17,2.24093E+15,751,2,Chelsea,GB23IKFU36409120028603,Thorpe,married or civil partner,0,FALSE,81215,Female,Nissan,Tundra Regular Cab,2013,Van/Minivan\\nStudio 77T Emily path,West Connor,NW7B 5ZR,38,6.35,\"Dickinson, Nolan and Smith\",Sep-18,Feb-26,4.42093E+18,800,2,Sarah,GB72SOVW84817129799960,Robinson,single,0,FALSE,19863,Female,INFINITI,Sportvan G20,2020,SUV\\nFlat 66f Anderson fords,Aaronburgh,E33 3NW,59,15.52,Blake-Johnson,Apr-20,Feb-26,4.85733E+18,854,1,Zoe,GB73OAWO74482506912387,Williams,widowed,0,FALSE,64885,Female,Cadillac,Tacoma Double Cab,2016,\"Coupe, Sedan\"\\n1 Holt knoll,Ianview,L93 2QY,84,0,N/A,06-Dec,Sep-17,2.27869E+15,243,1,Sheila,GB28KWDH09406690563679,Woodward,single,24080,TRUE,59223,Female,Audi,Celica,2016,Van/Minivan\\nStudio 30X Clive hills,East Katemouth,SN5V 1JD,72,9.28,Archer-Dean,May-15,Oct-18,3.86895E+13,510,2,Dorothy,GB53SWXB45203854278672,Leonard,married or civil partner,0,FALSE,31412,Female,Dodge,B-Series Regular Cab,2017,Sedan\\n34 Amanda trace,North Juliamouth,HU28 3AR,50,5.81,Williams-Jones,06-Dec,Jul-17,3.79251E+14,586,2,Ashley,GB22OTJE53991614349608,Sullivan,married or civil partner,0,FALSE,18005,Male,Mercedes-Benz,Sprinter 2500 Crew,2014,Pickup\\n'"
      ]
     },
     "execution_count": 12,
     "metadata": {},
     "output_type": "execute_result"
    }
   ],
   "source": [
    "file  #each field is separated by comma and is considered as a single string, should be a list of string"
   ]
  },
  {
   "cell_type": "markdown",
   "id": "6ee6b5a1",
   "metadata": {},
   "source": [
    "#which is why we use the csv module\n",
    "\n",
    "#we will learn:\n",
    "1. read a file using the reader\n",
    "2. read data usig dictreader\n",
    "3. writing using dictwriter\n",
    "4. convert data to their appropriate data type\n",
    "5. json file\n",
    "6. pandas"
   ]
  },
  {
   "cell_type": "code",
   "execution_count": 13,
   "id": "edbaa163",
   "metadata": {},
   "outputs": [],
   "source": [
    "#csv module is a built in module, used to read n write"
   ]
  },
  {
   "cell_type": "code",
   "execution_count": 19,
   "id": "b5be596e",
   "metadata": {},
   "outputs": [
    {
     "data": {
      "text/plain": [
       "'Address Street,Address City,Address Postcode,Age (Years),Distance Commuted to Work (miles),Employer Company,Credit Card Start Date,Credit Card Expiry Date,Credit Card Number,Credit Card CVV,Dependants,First Name,Bank IBAN,Last Name,Marital Status,Yearly Pension (GBP),Retired,Yearly Salary (GBP),Sex,Vehicle Make,Vehicle Model,Vehicle Year,Vehicle Type\\n70 Lydia isle,Lake Conor,S71 7XZ,89,0,N/A,Aug-18,Nov-27,6.76374E+11,875,3,Kieran,GB62PQKB71416034141571,Wilson,married or civil partner,7257,TRUE,72838,Male,Hyundai,Bonneville,2009,Pickup\\n00 Wheeler wells,Chapmanton,L2 7BT,46,13.72,Begum-Williams,08-Dec,Nov-26,4.52944E+15,583,1,Jonathan,GB37UMCO54540228728019,Thomas,married or civil partner,0,FALSE,54016,Male,Nissan,ATS,1996,Coupe\\nStudio 33K Joel walk,Randallborough,ME3N 1GH,22,16.02,Hill-Wright,Nov-19,Jul-27,4.09173E+18,422,1,Antony,GB40CVUE84011545859591,Jones,married or civil partner,0,FALSE,68049,Male,GMC,Achieva,2015,\"Convertible, Coupe\"\\nStudio 46S Bethany lights,East Reece,E10 9RJ,56,19.35,Green LLC,Oct-17,Apr-18,4.67133E+18,669,2,Henry,GB40YPKK71613332239280,Shaw,married or civil partner,0,FALSE,91337,Male,Scion,F150 SuperCrew Cab,1994,Pickup\\nFlat 3 Christine views,Fletcherstad,WS2 9SN,57,5.94,\"Hill, Evans and Harrison\",Apr-19,Nov-27,2.24509E+15,659,2,Jodie,GB95WAYW31715898077181,O\\'Brien,married or civil partner,0,FALSE,18446,Female,Buick,Outback,2020,SUV\\nStudio 43M Emily rapid,West Derekborough,W1J 0DL,23,10.73,Gill and Sons,Mar-15,May-15,4.48521E+18,123,3,Ryan,GB29SSDY05529526374313,Clarke,married or civil partner,0,FALSE,38100,Male,Lexus,Paceman,2004,Van/Minivan\\n24 Heather locks,New Mathew,WD10 1LX,43,20.05,Clark Group,07-Dec,Mar-29,3.69707E+13,622,3,Julian,GB92PWOB18937027850061,Potter,single,0,FALSE,96645,Male,Lexus,S-Series,1998,Van/Minivan\\n81 Goodwin dam,Griffinstad,G3 7ZX,67,0,N/A,Jul-15,Apr-27,2.13199E+14,389,1,Clive,GB04VSAZ69128049616822,Evans,single,28075,TRUE,27964,Male,Volvo,Express 3500 Passenger,2013,SUV\\n798 Yates crescent,Port Lisa,LS0M 7UU,33,15.29,Richardson and Sons,May-13,Aug-20,3.01676E+13,849,2,Joan,GB80GFKU97154647098789,Stanley,married or civil partner,0,FALSE,63433,Female,Volkswagen,Town & Country,2010,\"Sedan, Coupe, Hatchback\"\\nStudio 77c Gail tunnel,Garyberg,S7W 4DW,87,0,N/A,Oct-13,Oct-13,2.13198E+14,766,2,Malcolm,GB74TXVQ82130006568515,Hamilton,single,29587,TRUE,66157,Male,Dodge,Impreza,2015,Sedan\\n2 Robert squares,North Martyn,LN2 4JH,64,11.11,Gray-James,May-19,Mar-29,4.70749E+15,843,3,Kimberley,GB95JQAU66555098753975,Turner,married or civil partner,0,FALSE,39983,Female,Volvo,Tundra Double Cab,2011,Sedan\\n6 Frances flats,Lake Amberchester,NE5E 5AD,68,7.5,Mitchell-Brown,Jun-18,Dec-22,4.0284E+12,404,2,Stuart,GB52JKQX17539370637650,Page,married or civil partner,0,FALSE,24062,Male,Volkswagen,Stratus,2012,SUV\\nFlat 29 Liam greens,West Liamview,S78 9WZ,45,20.21,\"Bailey, Gibson and Wallace\",Mar-19,Feb-23,3.74756E+14,237,3,Hollie,GB32JFUZ85486983593277,Gray,single,0,FALSE,97948,Female,Ford,1500 Regular Cab,2008,Convertible\\nStudio 75 Matthew tunnel,Patelville,L85 4LT,56,9.48,Jones Inc,Apr-17,Dec-20,3.5555E+15,69,3,Lawrence,GB80OOIU80240902240471,Smith,married or civil partner,0,FALSE,32281,Male,Lincoln,Sierra 2500 HD Crew Cab,2016,Pickup\\n8 Bray row,Daviestown,S2H 5RE,78,0,N/A,10-Dec,Dec-19,4.54841E+15,22,4,Jade,GB76WOAN35375600936407,John,married or civil partner,24712,TRUE,59891,Female,Nissan,LC,2012,SUV\\n8 Lesley estates,South Albertmouth,L1D 2GY,55,17.53,Butler PLC,Jun-14,Apr-29,4.03999E+12,885,2,Ronald,GB63SWMR56023428926868,Pearce,married or civil partner,0,FALSE,78214,Male,Acura,S10 Regular Cab,1999,Pickup\\n6 Karl path,Lake Kateborough,L2 1YW,40,18.76,White PLC,Jul-14,Feb-17,3.58197E+15,388,3,Josephine,GB95JPHC00666850049083,Saunders,married or civil partner,0,FALSE,86961,Female,Hyundai,Colorado Extended Cab,2017,Sedan\\nStudio 9 Joan tunnel,Birdview,LS3 9ZL,28,6.65,McCarthy and Sons,Mar-14,Jun-23,6.01173E+15,588,2,Tina,GB02YMXX98886109551024,Thornton,single,0,FALSE,20918,Female,Mercedes-Benz,RX,1992,\"Hatchback, Convertible\"\\nStudio 24F Cartwright mission,Lake Cheryl,EX5 7QJ,64,11.2,Dickinson LLC,Sep-13,Apr-16,4.5234E+15,592,3,Lauren,GB13NXGK90881253380683,Smith,married or civil partner,0,FALSE,40432,Female,Nissan,Ram 3500 Quad Cab,2019,\"Wagon, Sedan\"\\n409 Julie cliff,North Benjamin,SK1 8EA,61,15.12,Pugh-Ahmed,12-Nov,Aug-19,4.34608E+18,981,2,Tracy,GB46TBUI88094503861317,White,married or civil partner,0,FALSE,62377,Female,Chevrolet,Navigator,2008,Van/Minivan\\nStudio 98v Watson manors,Parkershire,E58 7QE,61,18.23,Wall Inc,Jul-18,Jun-20,4.20259E+12,215,2,Lynne,GB95OJRW46308657171586,Smith,married or civil partner,0,FALSE,83114,Female,Ford,Sierra 2500 HD Regular Cab,2009,Wagon\\n9 Hargreaves loaf,New Keith,OX85 1NN,40,11.98,Frost-Howard,Sep-18,Feb-23,3.57768E+15,426,,Sian,GB24RDII19341179851384,Marshall,married or civil partner,0,FALSE,44434,Female,MAZDA,Tundra Regular Cab,2001,Sedan\\nStudio 5 Morgan shore,Murrayshire,N2B 6BQ,75,17.76,Taylor-Price,Dec-17,Jul-25,3.5952E+15,779,1,Lindsey,GB13LRBV70338974739597,Williams,single,0,FALSE,79823,Female,Toyota,Silverado 3500 HD Crew Cab,2008,SUV\\nFlat 7 Nicholas extensions,Claireside,G1 8ND,30,17.22,Chapman-Roberts,07-Dec,Jan-24,4.42477E+15,844,2,Billy,GB20SYOG64532798985587,Turner,single,0,FALSE,76038,Male,Mitsubishi,Optima Hybrid,2002,Sedan\\nStudio 3 Duncan spurs,Briggsside,E0T 1XP,52,17.57,\"Hall, Chambers and Hussain\",Sep-20,May-21,3.4107E+14,653,2,Elliot,GB33EXFR41119491231301,Iqbal,widowed,0,FALSE,78499,Male,Chrysler,Camry,2000,Coupe\\n4 Mitchell ranch,Lake Josephinechester,N5S 7YJ,58,10.68,Hall-Bishop,Sep-20,Feb-28,3.53984E+15,555,1,Jessica,GB34JTYZ40582231795531,Carr,married or civil partner,0,FALSE,37866,Female,Dodge,Talon,2014,\"Coupe, Convertible\"\\n235 Smith path,Singhmouth,WN71 7XD,32,16.42,\"Rogers, Richards and Thomas\",May-15,Apr-24,6.01115E+15,190,2,Caroline,GB02HCXE02205190652485,Clarke,married or civil partner,0,FALSE,70655,Female,Hyundai,Monte Carlo,2011,\"Sedan, Wagon\"\\nStudio 76l Carr mill,South Francesborough,W7 1DR,36,17.64,\"Henry, Gibson and French\",09-Dec,Apr-17,5.81934E+11,7258,3,Jack,GB64SWHN93102765498771,Porter,single,0,FALSE,78955,Male,Kia,X3,2018,Pickup\\n385 Ward rue,Abigailport,AL0 4BW,18,19.49,\"Barnett, Jones and Jones\",Feb-13,Mar-14,2.71816E+15,5547,2,Gavin,GB15JSIN49600511879663,Chapman,married or civil partner,0,FALSE,92384,Male,Nissan,Canyon Extended Cab,2014,Coupe\\nFlat 59T Barry loop,Lindaton,B60 3LJ,80,19.67,\"Clark, Evans and Lloyd\",May-18,Jan-27,4.88028E+12,20,1,Dennis,GB67BTBB81025265475465,Johnson,married or civil partner,0,FALSE,93744,Male,Nissan,Spirit,2006,Pickup\\n4 Patel curve,Robertstad,DT33 1UL,55,14.53,\"May, Bennett and Wood\",07-Dec,Mar-24,3.5451E+15,106,2,Rhys,GB96MSSE31514251878599,George,married or civil partner,0,FALSE,58770,Male,Aston Martin,Sierra 1500 Crew Cab,1993,Hatchback\\n949 Kirsty walk,Rickymouth,N77 4DX,65,7.21,\"Warren, Burton and Spencer\",08-Dec,Apr-17,3.53274E+15,570,1,Denis,GB61PVEV06020291833305,Brown,married or civil partner,0,FALSE,22959,Male,Ford,Yukon XL 1500,2007,\"Wagon, Sedan, Coupe\"\\nFlat 47 Godfrey road,West Brianfurt,S6G 3HB,82,0,N/A,Jan-18,Jul-28,5.54347E+15,465,5,Helen,GB42TNFG09550061109890,Kaur,single,28731,TRUE,80297,Female,Acura,G,1998,SUV\\n004 Julian estates,Colinhaven,KT54 9TR,39,18.81,\"Kay, Chapman and Wilson\",Jan-16,Aug-25,4.10455E+15,615,2,Jeffrey,GB34LHKJ06609001114424,Humphreys,divorced,0,FALSE,87308,Male,Saab,Transit Connect Cargo,2005,SUV\\nFlat 32 Sharp prairie,Marcusstad,AB57 0ZN,83,0,N/A,02-Dec,Mar-24,2.42614E+15,453,2,Adam,GB76KUNW91632428208056,Wright,married or civil partner,30115,TRUE,70109,Male,GMC,Frontier Crew Cab,1998,Van/Minivan\\n8 Michael cliff,Joanchester,B8E 0XR,65,0,N/A,May-14,Dec-27,3.0254E+13,479,2,Danielle,GB77BKAA88748168755170,Robertson,married or civil partner,8022,TRUE,57953,Female,Jaguar,Odyssey,1997,Hatchback\\nStudio 63 Rachel underpass,Gallaghermouth,G99 3GH,42,12.44,Stevenson Group,Jul-13,Aug-13,4.61313E+12,926,2,Joyce,GB09RXOP90874575465239,Brown,married or civil partner,0,FALSE,46864,Female,Mercedes-Benz,Veloster,2011,Convertible\\n7 Williams forks,Cookside,N6 2YZ,91,0,N/A,Jun-19,Nov-21,4.23205E+12,752,2,Vanessa,GB75HZCQ22453289425740,Kay,single,30866,TRUE,81220,Female,Chevrolet,Viper,2015,Pickup\\n75 Gordon courts,Lorraineberg,L56 2JA,35,15.36,Wright and Sons,Oct-19,Jul-21,6.0112E+15,660,4,Dawn,GB86CXKN23940068226539,Young,married or civil partner,0,FALSE,63857,Female,Chevrolet,S2000,2002,SUV\\nStudio 09F Allen road,Port Rachel,TS9 1TL,54,9.85,\"Thomson, Kirby and Barker\",May-19,Aug-23,3.58377E+15,113,1,Darren,GB12URYF32648832649281,Nicholls,married or civil partner,0,FALSE,33987,Male,Volkswagen,300,2015,Sedan\\nStudio 7 Jemma cliff,Turnerbury,B98 1HT,20,7.65,Smith-Smith,04-Dec,Jan-24,4.93002E+15,373,2,Lauren,GB41AMAJ35865980015154,Martin,widowed,0,FALSE,24652,Female,GMC,Phaeton,2008,SUV\\nFlat 08d Ward squares,Phillipside,BB3A 9PE,51,6.45,Clarke Inc,01-Dec,Sep-23,2.13158E+14,542,2,Melanie,GB14FFMB81152248185033,O\\'Brien,married or civil partner,0,FALSE,20206,Female,Pontiac,2500 Regular Cab,1997,Sedan\\n28 Oliver fort,Melissaport,DY95 0UG,42,20.08,Smith PLC,Dec-13,Nov-14,4.02867E+15,326,2,Vanessa,GB50MQKE98379126728837,Hussain,single,0,FALSE,96882,Female,Lexus,TrailBlazer,2001,Van/Minivan\\nFlat 39 Shaun dam,Martinbury,N9W 3EN,43,17.96,Sutton LLC,Jun-16,Jan-17,2.24093E+15,751,2,Chelsea,GB23IKFU36409120028603,Thorpe,married or civil partner,0,FALSE,81215,Female,Nissan,Tundra Regular Cab,2013,Van/Minivan\\nStudio 77T Emily path,West Connor,NW7B 5ZR,38,6.35,\"Dickinson, Nolan and Smith\",Sep-18,Feb-26,4.42093E+18,800,2,Sarah,GB72SOVW84817129799960,Robinson,single,0,FALSE,19863,Female,INFINITI,Sportvan G20,2020,SUV\\nFlat 66f Anderson fords,Aaronburgh,E33 3NW,59,15.52,Blake-Johnson,Apr-20,Feb-26,4.85733E+18,854,1,Zoe,GB73OAWO74482506912387,Williams,widowed,0,FALSE,64885,Female,Cadillac,Tacoma Double Cab,2016,\"Coupe, Sedan\"\\n1 Holt knoll,Ianview,L93 2QY,84,0,N/A,06-Dec,Sep-17,2.27869E+15,243,1,Sheila,GB28KWDH09406690563679,Woodward,single,24080,TRUE,59223,Female,Audi,Celica,2016,Van/Minivan\\nStudio 30X Clive hills,East Katemouth,SN5V 1JD,72,9.28,Archer-Dean,May-15,Oct-18,3.86895E+13,510,2,Dorothy,GB53SWXB45203854278672,Leonard,married or civil partner,0,FALSE,31412,Female,Dodge,B-Series Regular Cab,2017,Sedan\\n34 Amanda trace,North Juliamouth,HU28 3AR,50,5.81,Williams-Jones,06-Dec,Jul-17,3.79251E+14,586,2,Ashley,GB22OTJE53991614349608,Sullivan,married or civil partner,0,FALSE,18005,Male,Mercedes-Benz,Sprinter 2500 Crew,2014,Pickup\\n'"
      ]
     },
     "execution_count": 19,
     "metadata": {},
     "output_type": "execute_result"
    }
   ],
   "source": [
    "path2 = open(\"ailead sample.csv\", \"r\") #reading the file using open function\n",
    "\n",
    "file2 = path2.read()\n",
    "file3"
   ]
  },
  {
   "cell_type": "code",
   "execution_count": 26,
   "id": "dd563b18",
   "metadata": {},
   "outputs": [
    {
     "name": "stdout",
     "output_type": "stream",
     "text": [
      "['Address Street', 'Address City', 'Address Postcode', 'Age (Years)', 'Distance Commuted to Work (miles)', 'Employer Company', 'Credit Card Start Date', 'Credit Card Expiry Date', 'Credit Card Number', 'Credit Card CVV', 'Dependants', 'First Name', 'Bank IBAN', 'Last Name', 'Marital Status', 'Yearly Pension (GBP)', 'Retired', 'Yearly Salary (GBP)', 'Sex', 'Vehicle Make', 'Vehicle Model', 'Vehicle Year', 'Vehicle Type']\n",
      "['70 Lydia isle', 'Lake Conor', 'S71 7XZ', '89', '0', 'N/A', 'Aug-18', 'Nov-27', '6.76374E+11', '875', '3', 'Kieran', 'GB62PQKB71416034141571', 'Wilson', 'married or civil partner', '7257', 'TRUE', '72838', 'Male', 'Hyundai', 'Bonneville', '2009', 'Pickup']\n",
      "['00 Wheeler wells', 'Chapmanton', 'L2 7BT', '46', '13.72', 'Begum-Williams', '08-Dec', 'Nov-26', '4.52944E+15', '583', '1', 'Jonathan', 'GB37UMCO54540228728019', 'Thomas', 'married or civil partner', '0', 'FALSE', '54016', 'Male', 'Nissan', 'ATS', '1996', 'Coupe']\n",
      "['Studio 33K Joel walk', 'Randallborough', 'ME3N 1GH', '22', '16.02', 'Hill-Wright', 'Nov-19', 'Jul-27', '4.09173E+18', '422', '1', 'Antony', 'GB40CVUE84011545859591', 'Jones', 'married or civil partner', '0', 'FALSE', '68049', 'Male', 'GMC', 'Achieva', '2015', 'Convertible, Coupe']\n",
      "['Studio 46S Bethany lights', 'East Reece', 'E10 9RJ', '56', '19.35', 'Green LLC', 'Oct-17', 'Apr-18', '4.67133E+18', '669', '2', 'Henry', 'GB40YPKK71613332239280', 'Shaw', 'married or civil partner', '0', 'FALSE', '91337', 'Male', 'Scion', 'F150 SuperCrew Cab', '1994', 'Pickup']\n",
      "['Flat 3 Christine views', 'Fletcherstad', 'WS2 9SN', '57', '5.94', 'Hill, Evans and Harrison', 'Apr-19', 'Nov-27', '2.24509E+15', '659', '2', 'Jodie', 'GB95WAYW31715898077181', \"O'Brien\", 'married or civil partner', '0', 'FALSE', '18446', 'Female', 'Buick', 'Outback', '2020', 'SUV']\n",
      "['Studio 43M Emily rapid', 'West Derekborough', 'W1J 0DL', '23', '10.73', 'Gill and Sons', 'Mar-15', 'May-15', '4.48521E+18', '123', '3', 'Ryan', 'GB29SSDY05529526374313', 'Clarke', 'married or civil partner', '0', 'FALSE', '38100', 'Male', 'Lexus', 'Paceman', '2004', 'Van/Minivan']\n",
      "['24 Heather locks', 'New Mathew', 'WD10 1LX', '43', '20.05', 'Clark Group', '07-Dec', 'Mar-29', '3.69707E+13', '622', '3', 'Julian', 'GB92PWOB18937027850061', 'Potter', 'single', '0', 'FALSE', '96645', 'Male', 'Lexus', 'S-Series', '1998', 'Van/Minivan']\n",
      "['81 Goodwin dam', 'Griffinstad', 'G3 7ZX', '67', '0', 'N/A', 'Jul-15', 'Apr-27', '2.13199E+14', '389', '1', 'Clive', 'GB04VSAZ69128049616822', 'Evans', 'single', '28075', 'TRUE', '27964', 'Male', 'Volvo', 'Express 3500 Passenger', '2013', 'SUV']\n",
      "['798 Yates crescent', 'Port Lisa', 'LS0M 7UU', '33', '15.29', 'Richardson and Sons', 'May-13', 'Aug-20', '3.01676E+13', '849', '2', 'Joan', 'GB80GFKU97154647098789', 'Stanley', 'married or civil partner', '0', 'FALSE', '63433', 'Female', 'Volkswagen', 'Town & Country', '2010', 'Sedan, Coupe, Hatchback']\n",
      "['Studio 77c Gail tunnel', 'Garyberg', 'S7W 4DW', '87', '0', 'N/A', 'Oct-13', 'Oct-13', '2.13198E+14', '766', '2', 'Malcolm', 'GB74TXVQ82130006568515', 'Hamilton', 'single', '29587', 'TRUE', '66157', 'Male', 'Dodge', 'Impreza', '2015', 'Sedan']\n",
      "['2 Robert squares', 'North Martyn', 'LN2 4JH', '64', '11.11', 'Gray-James', 'May-19', 'Mar-29', '4.70749E+15', '843', '3', 'Kimberley', 'GB95JQAU66555098753975', 'Turner', 'married or civil partner', '0', 'FALSE', '39983', 'Female', 'Volvo', 'Tundra Double Cab', '2011', 'Sedan']\n",
      "['6 Frances flats', 'Lake Amberchester', 'NE5E 5AD', '68', '7.5', 'Mitchell-Brown', 'Jun-18', 'Dec-22', '4.0284E+12', '404', '2', 'Stuart', 'GB52JKQX17539370637650', 'Page', 'married or civil partner', '0', 'FALSE', '24062', 'Male', 'Volkswagen', 'Stratus', '2012', 'SUV']\n",
      "['Flat 29 Liam greens', 'West Liamview', 'S78 9WZ', '45', '20.21', 'Bailey, Gibson and Wallace', 'Mar-19', 'Feb-23', '3.74756E+14', '237', '3', 'Hollie', 'GB32JFUZ85486983593277', 'Gray', 'single', '0', 'FALSE', '97948', 'Female', 'Ford', '1500 Regular Cab', '2008', 'Convertible']\n",
      "['Studio 75 Matthew tunnel', 'Patelville', 'L85 4LT', '56', '9.48', 'Jones Inc', 'Apr-17', 'Dec-20', '3.5555E+15', '69', '3', 'Lawrence', 'GB80OOIU80240902240471', 'Smith', 'married or civil partner', '0', 'FALSE', '32281', 'Male', 'Lincoln', 'Sierra 2500 HD Crew Cab', '2016', 'Pickup']\n",
      "['8 Bray row', 'Daviestown', 'S2H 5RE', '78', '0', 'N/A', '10-Dec', 'Dec-19', '4.54841E+15', '22', '4', 'Jade', 'GB76WOAN35375600936407', 'John', 'married or civil partner', '24712', 'TRUE', '59891', 'Female', 'Nissan', 'LC', '2012', 'SUV']\n",
      "['8 Lesley estates', 'South Albertmouth', 'L1D 2GY', '55', '17.53', 'Butler PLC', 'Jun-14', 'Apr-29', '4.03999E+12', '885', '2', 'Ronald', 'GB63SWMR56023428926868', 'Pearce', 'married or civil partner', '0', 'FALSE', '78214', 'Male', 'Acura', 'S10 Regular Cab', '1999', 'Pickup']\n",
      "['6 Karl path', 'Lake Kateborough', 'L2 1YW', '40', '18.76', 'White PLC', 'Jul-14', 'Feb-17', '3.58197E+15', '388', '3', 'Josephine', 'GB95JPHC00666850049083', 'Saunders', 'married or civil partner', '0', 'FALSE', '86961', 'Female', 'Hyundai', 'Colorado Extended Cab', '2017', 'Sedan']\n",
      "['Studio 9 Joan tunnel', 'Birdview', 'LS3 9ZL', '28', '6.65', 'McCarthy and Sons', 'Mar-14', 'Jun-23', '6.01173E+15', '588', '2', 'Tina', 'GB02YMXX98886109551024', 'Thornton', 'single', '0', 'FALSE', '20918', 'Female', 'Mercedes-Benz', 'RX', '1992', 'Hatchback, Convertible']\n",
      "['Studio 24F Cartwright mission', 'Lake Cheryl', 'EX5 7QJ', '64', '11.2', 'Dickinson LLC', 'Sep-13', 'Apr-16', '4.5234E+15', '592', '3', 'Lauren', 'GB13NXGK90881253380683', 'Smith', 'married or civil partner', '0', 'FALSE', '40432', 'Female', 'Nissan', 'Ram 3500 Quad Cab', '2019', 'Wagon, Sedan']\n",
      "['409 Julie cliff', 'North Benjamin', 'SK1 8EA', '61', '15.12', 'Pugh-Ahmed', '12-Nov', 'Aug-19', '4.34608E+18', '981', '2', 'Tracy', 'GB46TBUI88094503861317', 'White', 'married or civil partner', '0', 'FALSE', '62377', 'Female', 'Chevrolet', 'Navigator', '2008', 'Van/Minivan']\n",
      "['Studio 98v Watson manors', 'Parkershire', 'E58 7QE', '61', '18.23', 'Wall Inc', 'Jul-18', 'Jun-20', '4.20259E+12', '215', '2', 'Lynne', 'GB95OJRW46308657171586', 'Smith', 'married or civil partner', '0', 'FALSE', '83114', 'Female', 'Ford', 'Sierra 2500 HD Regular Cab', '2009', 'Wagon']\n",
      "['9 Hargreaves loaf', 'New Keith', 'OX85 1NN', '40', '11.98', 'Frost-Howard', 'Sep-18', 'Feb-23', '3.57768E+15', '426', '', 'Sian', 'GB24RDII19341179851384', 'Marshall', 'married or civil partner', '0', 'FALSE', '44434', 'Female', 'MAZDA', 'Tundra Regular Cab', '2001', 'Sedan']\n",
      "['Studio 5 Morgan shore', 'Murrayshire', 'N2B 6BQ', '75', '17.76', 'Taylor-Price', 'Dec-17', 'Jul-25', '3.5952E+15', '779', '1', 'Lindsey', 'GB13LRBV70338974739597', 'Williams', 'single', '0', 'FALSE', '79823', 'Female', 'Toyota', 'Silverado 3500 HD Crew Cab', '2008', 'SUV']\n",
      "['Flat 7 Nicholas extensions', 'Claireside', 'G1 8ND', '30', '17.22', 'Chapman-Roberts', '07-Dec', 'Jan-24', '4.42477E+15', '844', '2', 'Billy', 'GB20SYOG64532798985587', 'Turner', 'single', '0', 'FALSE', '76038', 'Male', 'Mitsubishi', 'Optima Hybrid', '2002', 'Sedan']\n",
      "['Studio 3 Duncan spurs', 'Briggsside', 'E0T 1XP', '52', '17.57', 'Hall, Chambers and Hussain', 'Sep-20', 'May-21', '3.4107E+14', '653', '2', 'Elliot', 'GB33EXFR41119491231301', 'Iqbal', 'widowed', '0', 'FALSE', '78499', 'Male', 'Chrysler', 'Camry', '2000', 'Coupe']\n",
      "['4 Mitchell ranch', 'Lake Josephinechester', 'N5S 7YJ', '58', '10.68', 'Hall-Bishop', 'Sep-20', 'Feb-28', '3.53984E+15', '555', '1', 'Jessica', 'GB34JTYZ40582231795531', 'Carr', 'married or civil partner', '0', 'FALSE', '37866', 'Female', 'Dodge', 'Talon', '2014', 'Coupe, Convertible']\n",
      "['235 Smith path', 'Singhmouth', 'WN71 7XD', '32', '16.42', 'Rogers, Richards and Thomas', 'May-15', 'Apr-24', '6.01115E+15', '190', '2', 'Caroline', 'GB02HCXE02205190652485', 'Clarke', 'married or civil partner', '0', 'FALSE', '70655', 'Female', 'Hyundai', 'Monte Carlo', '2011', 'Sedan, Wagon']\n",
      "['Studio 76l Carr mill', 'South Francesborough', 'W7 1DR', '36', '17.64', 'Henry, Gibson and French', '09-Dec', 'Apr-17', '5.81934E+11', '7258', '3', 'Jack', 'GB64SWHN93102765498771', 'Porter', 'single', '0', 'FALSE', '78955', 'Male', 'Kia', 'X3', '2018', 'Pickup']\n",
      "['385 Ward rue', 'Abigailport', 'AL0 4BW', '18', '19.49', 'Barnett, Jones and Jones', 'Feb-13', 'Mar-14', '2.71816E+15', '5547', '2', 'Gavin', 'GB15JSIN49600511879663', 'Chapman', 'married or civil partner', '0', 'FALSE', '92384', 'Male', 'Nissan', 'Canyon Extended Cab', '2014', 'Coupe']\n",
      "['Flat 59T Barry loop', 'Lindaton', 'B60 3LJ', '80', '19.67', 'Clark, Evans and Lloyd', 'May-18', 'Jan-27', '4.88028E+12', '20', '1', 'Dennis', 'GB67BTBB81025265475465', 'Johnson', 'married or civil partner', '0', 'FALSE', '93744', 'Male', 'Nissan', 'Spirit', '2006', 'Pickup']\n",
      "['4 Patel curve', 'Robertstad', 'DT33 1UL', '55', '14.53', 'May, Bennett and Wood', '07-Dec', 'Mar-24', '3.5451E+15', '106', '2', 'Rhys', 'GB96MSSE31514251878599', 'George', 'married or civil partner', '0', 'FALSE', '58770', 'Male', 'Aston Martin', 'Sierra 1500 Crew Cab', '1993', 'Hatchback']\n",
      "['949 Kirsty walk', 'Rickymouth', 'N77 4DX', '65', '7.21', 'Warren, Burton and Spencer', '08-Dec', 'Apr-17', '3.53274E+15', '570', '1', 'Denis', 'GB61PVEV06020291833305', 'Brown', 'married or civil partner', '0', 'FALSE', '22959', 'Male', 'Ford', 'Yukon XL 1500', '2007', 'Wagon, Sedan, Coupe']\n",
      "['Flat 47 Godfrey road', 'West Brianfurt', 'S6G 3HB', '82', '0', 'N/A', 'Jan-18', 'Jul-28', '5.54347E+15', '465', '5', 'Helen', 'GB42TNFG09550061109890', 'Kaur', 'single', '28731', 'TRUE', '80297', 'Female', 'Acura', 'G', '1998', 'SUV']\n",
      "['004 Julian estates', 'Colinhaven', 'KT54 9TR', '39', '18.81', 'Kay, Chapman and Wilson', 'Jan-16', 'Aug-25', '4.10455E+15', '615', '2', 'Jeffrey', 'GB34LHKJ06609001114424', 'Humphreys', 'divorced', '0', 'FALSE', '87308', 'Male', 'Saab', 'Transit Connect Cargo', '2005', 'SUV']\n",
      "['Flat 32 Sharp prairie', 'Marcusstad', 'AB57 0ZN', '83', '0', 'N/A', '02-Dec', 'Mar-24', '2.42614E+15', '453', '2', 'Adam', 'GB76KUNW91632428208056', 'Wright', 'married or civil partner', '30115', 'TRUE', '70109', 'Male', 'GMC', 'Frontier Crew Cab', '1998', 'Van/Minivan']\n",
      "['8 Michael cliff', 'Joanchester', 'B8E 0XR', '65', '0', 'N/A', 'May-14', 'Dec-27', '3.0254E+13', '479', '2', 'Danielle', 'GB77BKAA88748168755170', 'Robertson', 'married or civil partner', '8022', 'TRUE', '57953', 'Female', 'Jaguar', 'Odyssey', '1997', 'Hatchback']\n",
      "['Studio 63 Rachel underpass', 'Gallaghermouth', 'G99 3GH', '42', '12.44', 'Stevenson Group', 'Jul-13', 'Aug-13', '4.61313E+12', '926', '2', 'Joyce', 'GB09RXOP90874575465239', 'Brown', 'married or civil partner', '0', 'FALSE', '46864', 'Female', 'Mercedes-Benz', 'Veloster', '2011', 'Convertible']\n",
      "['7 Williams forks', 'Cookside', 'N6 2YZ', '91', '0', 'N/A', 'Jun-19', 'Nov-21', '4.23205E+12', '752', '2', 'Vanessa', 'GB75HZCQ22453289425740', 'Kay', 'single', '30866', 'TRUE', '81220', 'Female', 'Chevrolet', 'Viper', '2015', 'Pickup']\n",
      "['75 Gordon courts', 'Lorraineberg', 'L56 2JA', '35', '15.36', 'Wright and Sons', 'Oct-19', 'Jul-21', '6.0112E+15', '660', '4', 'Dawn', 'GB86CXKN23940068226539', 'Young', 'married or civil partner', '0', 'FALSE', '63857', 'Female', 'Chevrolet', 'S2000', '2002', 'SUV']\n",
      "['Studio 09F Allen road', 'Port Rachel', 'TS9 1TL', '54', '9.85', 'Thomson, Kirby and Barker', 'May-19', 'Aug-23', '3.58377E+15', '113', '1', 'Darren', 'GB12URYF32648832649281', 'Nicholls', 'married or civil partner', '0', 'FALSE', '33987', 'Male', 'Volkswagen', '300', '2015', 'Sedan']\n",
      "['Studio 7 Jemma cliff', 'Turnerbury', 'B98 1HT', '20', '7.65', 'Smith-Smith', '04-Dec', 'Jan-24', '4.93002E+15', '373', '2', 'Lauren', 'GB41AMAJ35865980015154', 'Martin', 'widowed', '0', 'FALSE', '24652', 'Female', 'GMC', 'Phaeton', '2008', 'SUV']\n",
      "['Flat 08d Ward squares', 'Phillipside', 'BB3A 9PE', '51', '6.45', 'Clarke Inc', '01-Dec', 'Sep-23', '2.13158E+14', '542', '2', 'Melanie', 'GB14FFMB81152248185033', \"O'Brien\", 'married or civil partner', '0', 'FALSE', '20206', 'Female', 'Pontiac', '2500 Regular Cab', '1997', 'Sedan']\n",
      "['28 Oliver fort', 'Melissaport', 'DY95 0UG', '42', '20.08', 'Smith PLC', 'Dec-13', 'Nov-14', '4.02867E+15', '326', '2', 'Vanessa', 'GB50MQKE98379126728837', 'Hussain', 'single', '0', 'FALSE', '96882', 'Female', 'Lexus', 'TrailBlazer', '2001', 'Van/Minivan']\n",
      "['Flat 39 Shaun dam', 'Martinbury', 'N9W 3EN', '43', '17.96', 'Sutton LLC', 'Jun-16', 'Jan-17', '2.24093E+15', '751', '2', 'Chelsea', 'GB23IKFU36409120028603', 'Thorpe', 'married or civil partner', '0', 'FALSE', '81215', 'Female', 'Nissan', 'Tundra Regular Cab', '2013', 'Van/Minivan']\n",
      "['Studio 77T Emily path', 'West Connor', 'NW7B 5ZR', '38', '6.35', 'Dickinson, Nolan and Smith', 'Sep-18', 'Feb-26', '4.42093E+18', '800', '2', 'Sarah', 'GB72SOVW84817129799960', 'Robinson', 'single', '0', 'FALSE', '19863', 'Female', 'INFINITI', 'Sportvan G20', '2020', 'SUV']\n",
      "['Flat 66f Anderson fords', 'Aaronburgh', 'E33 3NW', '59', '15.52', 'Blake-Johnson', 'Apr-20', 'Feb-26', '4.85733E+18', '854', '1', 'Zoe', 'GB73OAWO74482506912387', 'Williams', 'widowed', '0', 'FALSE', '64885', 'Female', 'Cadillac', 'Tacoma Double Cab', '2016', 'Coupe, Sedan']\n",
      "['1 Holt knoll', 'Ianview', 'L93 2QY', '84', '0', 'N/A', '06-Dec', 'Sep-17', '2.27869E+15', '243', '1', 'Sheila', 'GB28KWDH09406690563679', 'Woodward', 'single', '24080', 'TRUE', '59223', 'Female', 'Audi', 'Celica', '2016', 'Van/Minivan']\n",
      "['Studio 30X Clive hills', 'East Katemouth', 'SN5V 1JD', '72', '9.28', 'Archer-Dean', 'May-15', 'Oct-18', '3.86895E+13', '510', '2', 'Dorothy', 'GB53SWXB45203854278672', 'Leonard', 'married or civil partner', '0', 'FALSE', '31412', 'Female', 'Dodge', 'B-Series Regular Cab', '2017', 'Sedan']\n",
      "['34 Amanda trace', 'North Juliamouth', 'HU28 3AR', '50', '5.81', 'Williams-Jones', '06-Dec', 'Jul-17', '3.79251E+14', '586', '2', 'Ashley', 'GB22OTJE53991614349608', 'Sullivan', 'married or civil partner', '0', 'FALSE', '18005', 'Male', 'Mercedes-Benz', 'Sprinter 2500 Crew', '2014', 'Pickup']\n"
     ]
    }
   ],
   "source": [
    "path4 = open(\"ailead sample.csv\", \"r\")                #another way directlyyyy\n",
    "csv_reader4 = csv.reader(path4)\n",
    "\n",
    "for line in csv_reader4:\n",
    "    print(line)"
   ]
  },
  {
   "cell_type": "code",
   "execution_count": 47,
   "id": "2bd731c3",
   "metadata": {},
   "outputs": [
    {
     "name": "stdout",
     "output_type": "stream",
     "text": [
      "['Address Street', 'Address City', 'Address Postcode', 'Age (Years)', 'Distance Commuted to Work (miles)', 'Employer Company', 'Credit Card Start Date', 'Credit Card Expiry Date', 'Credit Card Number', 'Credit Card CVV', 'Dependants', 'First Name', 'Bank IBAN', 'Last Name', 'Marital Status', 'Yearly Pension (GBP)', 'Retired', 'Yearly Salary (GBP)', 'Sex', 'Vehicle Make', 'Vehicle Model', 'Vehicle Year', 'Vehicle Type']\n",
      "['70 Lydia isle', 'Lake Conor', 'S71 7XZ', '89', '0', 'N/A', 'Aug-18', 'Nov-27', '6.76E+11', '875', '3', 'Kieran', 'GB62PQKB71416034141571', 'Wilson', 'married or civil partner', '7257', 'TRUE', '72838', 'Male', 'Hyundai', 'Bonneville', '2009', 'Pickup']\n",
      "['00 Wheeler wells', 'Chapmanton', 'L2 7BT', '46', '13.72', 'Begum-Williams', '08-Dec', 'Nov-26', '4.53E+15', '583', '1', 'Jonathan', 'GB37UMCO54540228728019', 'Thomas', 'married or civil partner', '0', 'FALSE', '54016', 'Male', 'Nissan', 'ATS', '1996', 'Coupe']\n",
      "['Studio 33K Joel walk', 'Randallborough', 'ME3N 1GH', '22', '16.02', 'Hill-Wright', 'Nov-19', 'Jul-27', '4.09E+18', '422', '1', 'Antony', 'GB40CVUE84011545859591', 'Jones', 'married or civil partner', '0', 'FALSE', '68049', 'Male', 'GMC', 'Achieva', '2015', 'Convertible, Coupe']\n",
      "['Studio 46S Bethany lights', 'East Reece', 'E10 9RJ', '56', '19.35', 'Green LLC', 'Oct-17', 'Apr-18', '4.67E+18', '669', '2', 'Henry', 'GB40YPKK71613332239280', 'Shaw', 'married or civil partner', '0', 'FALSE', '91337', 'Male', 'Scion', 'F150 SuperCrew Cab', '1994', 'Pickup']\n",
      "['Flat 3 Christine views', 'Fletcherstad', 'WS2 9SN', '57', '5.94', 'Hill, Evans and Harrison', 'Apr-19', 'Nov-27', '2.25E+15', '659', '2', 'Jodie', 'GB95WAYW31715898077181', \"O'Brien\", 'married or civil partner', '0', 'FALSE', '18446', 'Female', 'Buick', 'Outback', '2020', 'SUV']\n",
      "['Studio 43M Emily rapid', 'West Derekborough', 'W1J 0DL', '23', '10.73', 'Gill and Sons', 'Mar-15', 'May-15', '4.49E+18', '123', '3', 'Ryan', 'GB29SSDY05529526374313', 'Clarke', 'married or civil partner', '0', 'FALSE', '38100', 'Male', 'Lexus', 'Paceman', '2004', 'Van/Minivan']\n",
      "['24 Heather locks', 'New Mathew', 'WD10 1LX', '43', '20.05', 'Clark Group', '07-Dec', 'Mar-29', '3.70E+13', '622', '3', 'Julian', 'GB92PWOB18937027850061', 'Potter', 'single', '0', 'FALSE', '96645', 'Male', 'Lexus', 'S-Series', '1998', 'Van/Minivan']\n",
      "['81 Goodwin dam', 'Griffinstad', 'G3 7ZX', '67', '0', 'N/A', 'Jul-15', 'Apr-27', '2.13E+14', '389', '1', 'Clive', 'GB04VSAZ69128049616822', 'Evans', 'single', '28075', 'TRUE', '27964', 'Male', 'Volvo', 'Express 3500 Passenger', '2013', 'SUV']\n",
      "['798 Yates crescent', 'Port Lisa', 'LS0M 7UU', '33', '15.29', 'Richardson and Sons', 'May-13', 'Aug-20', '3.02E+13', '849', '2', 'Joan', 'GB80GFKU97154647098789', 'Stanley', 'married or civil partner', '0', 'FALSE', '63433', 'Female', 'Volkswagen', 'Town & Country', '2010', 'Sedan, Coupe, Hatchback']\n",
      "['Studio 77c Gail tunnel', 'Garyberg', 'S7W 4DW', '87', '0', 'N/A', 'Oct-13', 'Oct-13', '2.13E+14', '766', '2', 'Malcolm', 'GB74TXVQ82130006568515', 'Hamilton', 'single', '29587', 'TRUE', '66157', 'Male', 'Dodge', 'Impreza', '2015', 'Sedan']\n",
      "['2 Robert squares', 'North Martyn', 'LN2 4JH', '64', '11.11', 'Gray-James', 'May-19', 'Mar-29', '4.71E+15', '843', '3', 'Kimberley', 'GB95JQAU66555098753975', 'Turner', 'married or civil partner', '0', 'FALSE', '39983', 'Female', 'Volvo', 'Tundra Double Cab', '2011', 'Sedan']\n",
      "['6 Frances flats', 'Lake Amberchester', 'NE5E 5AD', '68', '7.5', 'Mitchell-Brown', 'Jun-18', 'Dec-22', '4.03E+12', '404', '2', 'Stuart', 'GB52JKQX17539370637650', 'Page', 'married or civil partner', '0', 'FALSE', '24062', 'Male', 'Volkswagen', 'Stratus', '2012', 'SUV']\n",
      "['Flat 29 Liam greens', 'West Liamview', 'S78 9WZ', '45', '20.21', 'Bailey, Gibson and Wallace', 'Mar-19', 'Feb-23', '3.75E+14', '237', '3', 'Hollie', 'GB32JFUZ85486983593277', 'Gray', 'single', '0', 'FALSE', '97948', 'Female', 'Ford', '1500 Regular Cab', '2008', 'Convertible']\n",
      "['Studio 75 Matthew tunnel', 'Patelville', 'L85 4LT', '56', '9.48', 'Jones Inc', 'Apr-17', 'Dec-20', '3.56E+15', '69', '3', 'Lawrence', 'GB80OOIU80240902240471', 'Smith', 'married or civil partner', '0', 'FALSE', '32281', 'Male', 'Lincoln', 'Sierra 2500 HD Crew Cab', '2016', 'Pickup']\n",
      "['8 Bray row', 'Daviestown', 'S2H 5RE', '78', '0', 'N/A', '10-Dec', 'Dec-19', '4.55E+15', '22', '4', 'Jade', 'GB76WOAN35375600936407', 'John', 'married or civil partner', '24712', 'TRUE', '59891', 'Female', 'Nissan', 'LC', '2012', 'SUV']\n",
      "['8 Lesley estates', 'South Albertmouth', 'L1D 2GY', '55', '17.53', 'Butler PLC', 'Jun-14', 'Apr-29', '4.04E+12', '885', '2', 'Ronald', 'GB63SWMR56023428926868', 'Pearce', 'married or civil partner', '0', 'FALSE', '78214', 'Male', 'Acura', 'S10 Regular Cab', '1999', 'Pickup']\n",
      "['6 Karl path', 'Lake Kateborough', 'L2 1YW', '40', '18.76', 'White PLC', 'Jul-14', 'Feb-17', '3.58E+15', '388', '', 'Josephine', 'GB95JPHC00666850049083', 'Saunders', 'married or civil partner', '0', 'FALSE', '86961', 'Female', 'Hyundai', 'Colorado Extended Cab', '2017', 'Sedan']\n",
      "['Studio 9 Joan tunnel', 'Birdview', 'LS3 9ZL', '28', '6.65', 'McCarthy and Sons', 'Mar-14', 'Jun-23', '6.01E+15', '588', '2', 'Tina', 'GB02YMXX98886109551024', 'Thornton', 'single', '0', 'FALSE', '20918', 'Female', 'Mercedes-Benz', 'RX', '1992', 'Hatchback, Convertible']\n",
      "['Studio 24F Cartwright mission', 'Lake Cheryl', 'EX5 7QJ', '64', '11.2', 'Dickinson LLC', 'Sep-13', 'Apr-16', '4.52E+15', '592', '3', 'Lauren', 'GB13NXGK90881253380683', 'Smith', 'married or civil partner', '0', 'FALSE', '40432', 'Female', 'Nissan', 'Ram 3500 Quad Cab', '2019', 'Wagon, Sedan']\n",
      "['409 Julie cliff', 'North Benjamin', 'SK1 8EA', '61', '15.12', 'Pugh-Ahmed', '12-Nov', 'Aug-19', '4.35E+18', '981', '2', 'Tracy', 'GB46TBUI88094503861317', 'White', 'married or civil partner', '0', 'FALSE', '62377', 'Female', 'Chevrolet', 'Navigator', '2008', 'Van/Minivan']\n",
      "['Studio 98v Watson manors', 'Parkershire', 'E58 7QE', '61', '18.23', 'Wall Inc', 'Jul-18', 'Jun-20', '4.20E+12', '215', '2', 'Lynne', 'GB95OJRW46308657171586', 'Smith', 'married or civil partner', '0', 'FALSE', '83114', 'Female', 'Ford', 'Sierra 2500 HD Regular Cab', '2009', 'Wagon']\n",
      "['9 Hargreaves loaf', 'New Keith', 'OX85 1NN', '40', '11.98', 'Frost-Howard', 'Sep-18', 'Feb-23', '3.58E+15', '426', '', 'Sian', 'GB24RDII19341179851384', 'Marshall', 'married or civil partner', '0', 'FALSE', '44434', 'Female', 'MAZDA', 'Tundra Regular Cab', '2001', 'Sedan']\n",
      "['Studio 5 Morgan shore', 'Murrayshire', 'N2B 6BQ', '75', '17.76', 'Taylor-Price', 'Dec-17', 'Jul-25', '3.60E+15', '779', '1', 'Lindsey', 'GB13LRBV70338974739597', 'Williams', 'single', '0', 'FALSE', '79823', 'Female', 'Toyota', 'Silverado 3500 HD Crew Cab', '2008', 'SUV']\n",
      "['Flat 7 Nicholas extensions', 'Claireside', 'G1 8ND', '30', '17.22', 'Chapman-Roberts', '07-Dec', 'Jan-24', '4.42E+15', '844', '2', 'Billy', 'GB20SYOG64532798985587', 'Turner', 'single', '0', 'FALSE', '76038', 'Male', 'Mitsubishi', 'Optima Hybrid', '2002', 'Sedan']\n",
      "['Studio 3 Duncan spurs', 'Briggsside', 'E0T 1XP', '52', '17.57', 'Hall, Chambers and Hussain', 'Sep-20', 'May-21', '3.41E+14', '653', '2', 'Elliot', 'GB33EXFR41119491231301', 'Iqbal', 'widowed', '0', 'FALSE', '78499', 'Male', 'Chrysler', 'Camry', '2000', 'Coupe']\n",
      "['4 Mitchell ranch', 'Lake Josephinechester', 'N5S 7YJ', '58', '10.68', 'Hall-Bishop', 'Sep-20', 'Feb-28', '3.54E+15', '555', '1', 'Jessica', 'GB34JTYZ40582231795531', 'Carr', 'married or civil partner', '0', 'FALSE', '37866', 'Female', 'Dodge', 'Talon', '2014', 'Coupe, Convertible']\n",
      "['235 Smith path', 'Singhmouth', 'WN71 7XD', '32', '16.42', 'Rogers, Richards and Thomas', 'May-15', 'Apr-24', '6.01E+15', '190', '2', 'Caroline', 'GB02HCXE02205190652485', 'Clarke', 'married or civil partner', '0', 'FALSE', '70655', 'Female', 'Hyundai', 'Monte Carlo', '2011', 'Sedan, Wagon']\n",
      "['Studio 76l Carr mill', 'South Francesborough', 'W7 1DR', '36', '17.64', 'Henry, Gibson and French', '09-Dec', 'Apr-17', '5.82E+11', '7258', '3', 'Jack', 'GB64SWHN93102765498771', 'Porter', 'single', '0', 'FALSE', '78955', 'Male', 'Kia', 'X3', '2018', 'Pickup']\n",
      "['385 Ward rue', 'Abigailport', 'AL0 4BW', '18', '19.49', 'Barnett, Jones and Jones', 'Feb-13', 'Mar-14', '2.72E+15', '5547', '2', 'Gavin', 'GB15JSIN49600511879663', 'Chapman', 'married or civil partner', '0', 'FALSE', '92384', 'Male', 'Nissan', 'Canyon Extended Cab', '2014', 'Coupe']\n",
      "['Flat 59T Barry loop', 'Lindaton', 'B60 3LJ', '80', '19.67', 'Clark, Evans and Lloyd', 'May-18', 'Jan-27', '4.88E+12', '20', '1', 'Dennis', 'GB67BTBB81025265475465', 'Johnson', 'married or civil partner', '0', 'FALSE', '93744', 'Male', 'Nissan', 'Spirit', '2006', 'Pickup']\n",
      "['4 Patel curve', 'Robertstad', 'DT33 1UL', '55', '14.53', 'May, Bennett and Wood', '07-Dec', 'Mar-24', '3.55E+15', '106', '2', 'Rhys', 'GB96MSSE31514251878599', 'George', 'married or civil partner', '0', 'FALSE', '58770', 'Male', 'Aston Martin', 'Sierra 1500 Crew Cab', '1993', 'Hatchback']\n",
      "['949 Kirsty walk', 'Rickymouth', 'N77 4DX', '65', '7.21', 'Warren, Burton and Spencer', '08-Dec', 'Apr-17', '3.53E+15', '570', '1', 'Denis', 'GB61PVEV06020291833305', 'Brown', 'married or civil partner', '0', 'FALSE', '22959', 'Male', 'Ford', 'Yukon XL 1500', '2007', 'Wagon, Sedan, Coupe']\n",
      "['Flat 47 Godfrey road', 'West Brianfurt', 'S6G 3HB', '82', '0', 'N/A', 'Jan-18', 'Jul-28', '5.54E+15', '465', '5', 'Helen', 'GB42TNFG09550061109890', 'Kaur', 'single', '28731', 'TRUE', '80297', 'Female', 'Acura', 'G', '1998', 'SUV']\n",
      "['004 Julian estates', 'Colinhaven', 'KT54 9TR', '39', '18.81', 'Kay, Chapman and Wilson', 'Jan-16', 'Aug-25', '4.10E+15', '615', '2', 'Jeffrey', 'GB34LHKJ06609001114424', 'Humphreys', 'divorced', '0', 'FALSE', '87308', 'Male', 'Saab', 'Transit Connect Cargo', '2005', 'SUV']\n",
      "['Flat 32 Sharp prairie', 'Marcusstad', 'AB57 0ZN', '83', '0', 'N/A', '02-Dec', 'Mar-24', '2.43E+15', '453', '2', 'Adam', 'GB76KUNW91632428208056', 'Wright', 'married or civil partner', '30115', 'TRUE', '70109', 'Male', 'GMC', 'Frontier Crew Cab', '1998', 'Van/Minivan']\n",
      "['8 Michael cliff', 'Joanchester', 'B8E 0XR', '65', '0', 'N/A', 'May-14', 'Dec-27', '3.03E+13', '479', '2', 'Danielle', 'GB77BKAA88748168755170', 'Robertson', 'married or civil partner', '8022', 'TRUE', '57953', 'Female', 'Jaguar', 'Odyssey', '1997', 'Hatchback']\n",
      "['Studio 63 Rachel underpass', 'Gallaghermouth', 'G99 3GH', '42', '12.44', 'Stevenson Group', 'Jul-13', 'Aug-13', '4.61E+12', '926', '2', 'Joyce', 'GB09RXOP90874575465239', 'Brown', 'married or civil partner', '0', 'FALSE', '46864', 'Female', 'Mercedes-Benz', 'Veloster', '2011', 'Convertible']\n",
      "['7 Williams forks', 'Cookside', 'N6 2YZ', '91', '0', 'N/A', 'Jun-19', 'Nov-21', '4.23E+12', '752', '2', 'Vanessa', 'GB75HZCQ22453289425740', 'Kay', 'single', '30866', 'TRUE', '81220', 'Female', 'Chevrolet', 'Viper', '2015', 'Pickup']\n",
      "['75 Gordon courts', 'Lorraineberg', 'L56 2JA', '35', '15.36', 'Wright and Sons', 'Oct-19', 'Jul-21', '6.01E+15', '660', '4', 'Dawn', 'GB86CXKN23940068226539', 'Young', 'married or civil partner', '0', 'FALSE', '63857', 'Female', 'Chevrolet', 'S2000', '2002', 'SUV']\n",
      "['Studio 09F Allen road', 'Port Rachel', 'TS9 1TL', '54', '9.85', 'Thomson, Kirby and Barker', 'May-19', 'Aug-23', '3.58E+15', '113', '1', 'Darren', 'GB12URYF32648832649281', 'Nicholls', 'married or civil partner', '0', 'FALSE', '33987', 'Male', 'Volkswagen', '300', '2015', 'Sedan']\n",
      "['Studio 7 Jemma cliff', 'Turnerbury', 'B98 1HT', '20', '7.65', 'Smith-Smith', '04-Dec', 'Jan-24', '4.93E+15', '373', '2', 'Lauren', 'GB41AMAJ35865980015154', 'Martin', 'widowed', '0', 'FALSE', '24652', 'Female', 'GMC', 'Phaeton', '2008', 'SUV']\n",
      "['Flat 08d Ward squares', 'Phillipside', 'BB3A 9PE', '51', '6.45', 'Clarke Inc', '01-Dec', 'Sep-23', '2.13E+14', '542', '2', 'Melanie', 'GB14FFMB81152248185033', \"O'Brien\", 'married or civil partner', '0', 'FALSE', '20206', 'Female', 'Pontiac', '2500 Regular Cab', '1997', 'Sedan']\n",
      "['28 Oliver fort', 'Melissaport', 'DY95 0UG', '42', '20.08', 'Smith PLC', 'Dec-13', 'Nov-14', '4.03E+15', '326', '2', 'Vanessa', 'GB50MQKE98379126728837', 'Hussain', 'single', '0', 'FALSE', '96882', 'Female', 'Lexus', 'TrailBlazer', '2001', 'Van/Minivan']\n",
      "['Flat 39 Shaun dam', 'Martinbury', 'N9W 3EN', '43', '17.96', 'Sutton LLC', 'Jun-16', 'Jan-17', '2.24E+15', '751', '2', 'Chelsea', 'GB23IKFU36409120028603', 'Thorpe', 'married or civil partner', '0', 'FALSE', '81215', 'Female', 'Nissan', 'Tundra Regular Cab', '2013', 'Van/Minivan']\n",
      "['Studio 77T Emily path', 'West Connor', 'NW7B 5ZR', '38', '6.35', 'Dickinson, Nolan and Smith', 'Sep-18', 'Feb-26', '4.42E+18', '800', '2', 'Sarah', 'GB72SOVW84817129799960', 'Robinson', 'single', '0', 'FALSE', '19863', 'Female', 'INFINITI', 'Sportvan G20', '2020', 'SUV']\n",
      "['Flat 66f Anderson fords', 'Aaronburgh', 'E33 3NW', '59', '15.52', 'Blake-Johnson', 'Apr-20', 'Feb-26', '4.86E+18', '854', '1', 'Zoe', 'GB73OAWO74482506912387', 'Williams', 'widowed', '0', 'FALSE', '64885', 'Female', 'Cadillac', 'Tacoma Double Cab', '2016', 'Coupe, Sedan']\n",
      "['1 Holt knoll', 'Ianview', 'L93 2QY', '84', '0', 'N/A', '06-Dec', 'Sep-17', '2.28E+15', '243', '1', 'Sheila', 'GB28KWDH09406690563679', 'Woodward', 'single', '24080', 'TRUE', '59223', 'Female', 'Audi', 'Celica', '2016', 'Van/Minivan']\n",
      "['Studio 30X Clive hills', 'East Katemouth', 'SN5V 1JD', '72', '9.28', 'Archer-Dean', 'May-15', 'Oct-18', '3.87E+13', '510', '2', 'Dorothy', 'GB53SWXB45203854278672', 'Leonard', 'married or civil partner', '0', 'FALSE', '31412', 'Female', 'Dodge', 'B-Series Regular Cab', '2017', 'Sedan']\n",
      "['34 Amanda trace', 'North Juliamouth', 'HU28 3AR', '50', '5.81', 'Williams-Jones', '06-Dec', 'Jul-17', '3.79E+14', '586', '2', 'Ashley', 'GB22OTJE53991614349608', 'Sullivan', 'married or civil partner', '0', 'FALSE', '18005', 'Male', 'Mercedes-Benz', 'Sprinter 2500 Crew', '2014', 'Pickup']\n"
     ]
    }
   ],
   "source": [
    "import csv\n",
    "                                                #we use open function to open the file path as sample\n",
    "with open (\"ailead sample.csv\", \"r\") as sample:    #instead of read, we want to use csv reader and we named the path sample\n",
    "    csv_reader = csv.reader(sample, delimiter = \",\")\n",
    "    \n",
    "    for line in csv_reader:  #you have to loop through and the result will all be list of string\n",
    "        print(line)          #the first row is the header, csv module uses the header as the first row"
   ]
  },
  {
   "cell_type": "code",
   "execution_count": 23,
   "id": "0dff2acc",
   "metadata": {},
   "outputs": [
    {
     "data": {
      "text/plain": [
       "<_csv.reader at 0x1cdc4c45ca0>"
      ]
     },
     "execution_count": 23,
     "metadata": {},
     "output_type": "execute_result"
    }
   ],
   "source": [
    "csv_reader #nothing shows because its an iterator and just give you address so you have to loop through it"
   ]
  },
  {
   "cell_type": "code",
   "execution_count": 37,
   "id": "41a355e0",
   "metadata": {},
   "outputs": [
    {
     "name": "stdout",
     "output_type": "stream",
     "text": [
      "['6 Karl path', 'Lake Kateborough', 'L2 1YW', '40', '18.76', 'White PLC', 'Jul-14', 'Feb-17', '3.58E+15', '388', 10000, 'Josephine', 'GB95JPHC00666850049083', 'Saunders', 'married or civil partner', '0', 'FALSE', '86961', 'Female', 'Hyundai', 'Colorado Extended Cab', '2017', 'Sedan']\n",
      "['9 Hargreaves loaf', 'New Keith', 'OX85 1NN', '40', '11.98', 'Frost-Howard', 'Sep-18', 'Feb-23', '3.58E+15', '426', 10000, 'Sian', 'GB24RDII19341179851384', 'Marshall', 'married or civil partner', '0', 'FALSE', '44434', 'Female', 'MAZDA', 'Tundra Regular Cab', '2001', 'Sedan']\n"
     ]
    }
   ],
   "source": [
    "import csv\n",
    "                                                #we use open function to open the file path as sample\n",
    "with open (\"ailead sample.csv\", \"r\") as sample:    #instead of read, we want to use csv reader and we named the path sample\n",
    "    csv_reader = csv.reader(sample, delimiter = \",\")\n",
    "    \n",
    "    for line in csv_reader:  #you have to loop through and the result will all be list of string, [10] is the 11th column\n",
    "        if line[10] == \"\":\n",
    "            line[10] = 10000\n",
    "            print(line)"
   ]
  },
  {
   "cell_type": "code",
   "execution_count": 40,
   "id": "023b03d1",
   "metadata": {},
   "outputs": [
    {
     "name": "stdout",
     "output_type": "stream",
     "text": [
      "70 Lydia isle\n",
      "00 Wheeler wells\n",
      "Studio 33K Joel walk\n",
      "Studio 46S Bethany lights\n",
      "Flat 3 Christine views\n",
      "Studio 43M Emily rapid\n",
      "24 Heather locks\n",
      "81 Goodwin dam\n",
      "798 Yates crescent\n",
      "Studio 77c Gail tunnel\n",
      "2 Robert squares\n",
      "6 Frances flats\n",
      "Flat 29 Liam greens\n",
      "Studio 75 Matthew tunnel\n",
      "8 Bray row\n",
      "8 Lesley estates\n",
      "6 Karl path\n",
      "Studio 9 Joan tunnel\n",
      "Studio 24F Cartwright mission\n",
      "409 Julie cliff\n",
      "Studio 98v Watson manors\n",
      "9 Hargreaves loaf\n",
      "Studio 5 Morgan shore\n",
      "Flat 7 Nicholas extensions\n",
      "Studio 3 Duncan spurs\n",
      "4 Mitchell ranch\n",
      "235 Smith path\n",
      "Studio 76l Carr mill\n",
      "385 Ward rue\n",
      "Flat 59T Barry loop\n",
      "4 Patel curve\n",
      "949 Kirsty walk\n",
      "Flat 47 Godfrey road\n",
      "004 Julian estates\n",
      "Flat 32 Sharp prairie\n",
      "8 Michael cliff\n",
      "Studio 63 Rachel underpass\n",
      "7 Williams forks\n",
      "75 Gordon courts\n",
      "Studio 09F Allen road\n",
      "Studio 7 Jemma cliff\n",
      "Flat 08d Ward squares\n",
      "28 Oliver fort\n",
      "Flat 39 Shaun dam\n",
      "Studio 77T Emily path\n",
      "Flat 66f Anderson fords\n",
      "1 Holt knoll\n",
      "Studio 30X Clive hills\n",
      "34 Amanda trace\n"
     ]
    }
   ],
   "source": [
    "#using dict reader\n",
    "with open (\"ailead sample.csv\", \"r\") as sample:    \n",
    "    csv_reader = csv.DictReader(sample, delimiter = \",\")\n",
    "    \n",
    "    for line in csv_reader:  \n",
    "        print(line[\"Address Street\"])   #print using the key, in the case is address street"
   ]
  },
  {
   "cell_type": "code",
   "execution_count": 49,
   "id": "767e2026",
   "metadata": {},
   "outputs": [
    {
     "name": "stdout",
     "output_type": "stream",
     "text": [
      "['Address Street', 'Address City', 'Address Postcode', 'Age (Years)', 'Distance Commuted to Work (miles)', 'Employer Company', 'Credit Card Start Date', 'Credit Card Expiry Date', 'Credit Card Number', 'Credit Card CVV', 'Dependants', 'First Name', 'Bank IBAN', 'Last Name', 'Marital Status', 'Yearly Pension (GBP)', 'Retired', 'Yearly Salary (GBP)', 'Sex', 'Vehicle Make', 'Vehicle Model', 'Vehicle Year', 'Vehicle Type']\n"
     ]
    }
   ],
   "source": [
    "#printing the header\n",
    "with open (\"ailead sample.csv\", \"r\") as sample:   \n",
    "    csv_reader = csv.reader(sample, delimiter = \",\")\n",
    "    \n",
    "    header = next(csv_reader)\n",
    "    print(header)"
   ]
  },
  {
   "cell_type": "code",
   "execution_count": null,
   "id": "a9cf11dd",
   "metadata": {},
   "outputs": [],
   "source": [
    "##############################"
   ]
  },
  {
   "cell_type": "code",
   "execution_count": null,
   "id": "cdc7589f",
   "metadata": {},
   "outputs": [],
   "source": []
  },
  {
   "cell_type": "code",
   "execution_count": null,
   "id": "383f0252",
   "metadata": {},
   "outputs": [],
   "source": []
  },
  {
   "cell_type": "code",
   "execution_count": null,
   "id": "2ecafaa8",
   "metadata": {},
   "outputs": [],
   "source": []
  },
  {
   "cell_type": "code",
   "execution_count": null,
   "id": "f6992b82",
   "metadata": {},
   "outputs": [],
   "source": []
  },
  {
   "cell_type": "code",
   "execution_count": null,
   "id": "8d459245",
   "metadata": {},
   "outputs": [],
   "source": [
    "Modified_acw_user_Records=[]\n",
    "with open('ailead sample.csv',mode='r') as acw_user_Records:  \n",
    "    Records=csv.DictReader(acw_user_Records,delimiter=',')\n",
    "    for line in Records:\n",
    "        if line_number == 0:\n",
    "            continue\n",
    "        Modified_acw_user_Records.append({\"First_Name\":line[11],\"Second_Name\":line[13],\"Age\":int(line[3]),\n",
    "                                          'Sex':line[18],\"retired\":bool(line[16]),\"Marital Status\":line[14],\n",
    "                                          \"dependants\":line[10],\"Salary\":float(line[17]),\"Pension\":float(line[15]),\n",
    "                                          \"company\":line[5],\"Commute_Distance\":float(line[4]),\n",
    "                                          \"Vehicle\":{\"make\":line[19],\"model\":line[20],\"year\":int(line[21]),\n",
    "                                                     \"category\":line[22]},\n",
    "                                          \"Credit card\":{\"Start_Date\":line[6],\"End_Date\":line[7],\n",
    "                                                         \"Number\":int(line[8]),\"CVV\":int(line[9]),\n",
    "                                                         \"IBAN\":line[12]},\n",
    "                                          \"Address\":{\"Street\":line[0],\"City\":line[1],\"Postcode\":line[2]}})\n",
    "        \n",
    "print(Modified_acw_user_Records)"
   ]
  },
  {
   "cell_type": "code",
   "execution_count": null,
   "id": "d385ce8e",
   "metadata": {},
   "outputs": [],
   "source": []
  },
  {
   "cell_type": "code",
   "execution_count": null,
   "id": "ad5b730f",
   "metadata": {},
   "outputs": [],
   "source": []
  },
  {
   "cell_type": "code",
   "execution_count": null,
   "id": "887b2ea5",
   "metadata": {},
   "outputs": [],
   "source": []
  },
  {
   "cell_type": "markdown",
   "id": "5f31eaea",
   "metadata": {},
   "source": [
    "# writing the file after working on it"
   ]
  },
  {
   "cell_type": "code",
   "execution_count": 31,
   "id": "3664f399",
   "metadata": {},
   "outputs": [],
   "source": [
    "import csv\n",
    "                                                #we use open function to open the file path as sample\n",
    "with open (\"ailead sample.csv\", \"r\") as sample:    #instead of read, we want to use csv reader and we named the path sample\n",
    "    csv_reader = csv.reader(sample, delimiter = \",\")\n",
    "    \n",
    "    with open(\"newfile.csv\", \"w\") as output:   #we are opening a new file to write the content of the above file using the writer method\n",
    "        csv_writer = csv.writer(output)\n",
    "        \n",
    "        for line in csv_reader:            \n",
    "            csv_writer.writerow(line)"
   ]
  },
  {
   "cell_type": "code",
   "execution_count": null,
   "id": "c9bf1b75",
   "metadata": {},
   "outputs": [],
   "source": []
  }
 ],
 "metadata": {
  "kernelspec": {
   "display_name": "Python 3 (ipykernel)",
   "language": "python",
   "name": "python3"
  },
  "language_info": {
   "codemirror_mode": {
    "name": "ipython",
    "version": 3
   },
   "file_extension": ".py",
   "mimetype": "text/x-python",
   "name": "python",
   "nbconvert_exporter": "python",
   "pygments_lexer": "ipython3",
   "version": "3.9.12"
  }
 },
 "nbformat": 4,
 "nbformat_minor": 5
}
