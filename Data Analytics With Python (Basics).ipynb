{
 "cells": [
  {
   "cell_type": "markdown",
   "metadata": {},
   "source": [
    "## Introduction to Python\n",
    "\n",
    "* Most companies these days prefer Python because its easy to use, user friendly and has a large community (e.g stackoverflow)\n",
    "\n",
    "* Python can be used for large data (tweets per second, amazon orders over a period etc) unlike excel which is limited to specific number of rows and columns\n",
    "\n",
    "* Python is a very important tool needed as a data analyst"
   ]
  },
  {
   "cell_type": "markdown",
   "metadata": {},
   "source": [
    "## Variables and Operators"
   ]
  },
  {
   "cell_type": "markdown",
   "metadata": {},
   "source": [
    "### Explaining what are variables (with examples, assignment operator and equal operator( =, ==, !=))"
   ]
  },
  {
   "cell_type": "code",
   "execution_count": 10,
   "metadata": {},
   "outputs": [],
   "source": [
    "#every programming tool has what we call a variable,variable is any name used to store anything or value\n",
    "\n",
    "#what is stored determines the type of that variable.. if a string it will have a quote \"\", we also have int, float, boolean\n",
    "\n",
    "john = \"Data Scientist\"\n",
    "age = 30\n",
    "\n",
    "# we store variable for re usability, use formative names to store variables so you can understand it\n",
    "# a variable cannot start with a number\n",
    "\n",
    " 13 = \"joy\"\n",
    "\n",
    "#  = means assignment operator, storing the value\n",
    "#  == means equal sign which is used to ask questions"
   ]
  },
  {
   "cell_type": "code",
   "execution_count": 20,
   "metadata": {},
   "outputs": [],
   "source": [
    "john = \"Data Scientist\""
   ]
  },
  {
   "cell_type": "code",
   "execution_count": 16,
   "metadata": {},
   "outputs": [
    {
     "data": {
      "text/plain": [
       "False"
      ]
     },
     "execution_count": 16,
     "metadata": {},
     "output_type": "execute_result"
    }
   ],
   "source": [
    "john == \"Doctor\" #asking questions which shows false"
   ]
  },
  {
   "cell_type": "code",
   "execution_count": 17,
   "metadata": {},
   "outputs": [
    {
     "data": {
      "text/plain": [
       "True"
      ]
     },
     "execution_count": 17,
     "metadata": {},
     "output_type": "execute_result"
    }
   ],
   "source": [
    "john != \"Doctor\""
   ]
  },
  {
   "cell_type": "markdown",
   "metadata": {},
   "source": [
    "### Data types (str, int, float, boolean)"
   ]
  },
  {
   "cell_type": "code",
   "execution_count": 21,
   "metadata": {},
   "outputs": [
    {
     "data": {
      "text/plain": [
       "False"
      ]
     },
     "execution_count": 21,
     "metadata": {},
     "output_type": "execute_result"
    }
   ],
   "source": [
    "#the type of value the variable they store determines the variable's data type\n",
    "#python is case sensitive\n",
    "\n",
    "john == \"data scientist\"\n"
   ]
  },
  {
   "cell_type": "code",
   "execution_count": 22,
   "metadata": {},
   "outputs": [
    {
     "data": {
      "text/plain": [
       "str"
      ]
     },
     "execution_count": 22,
     "metadata": {},
     "output_type": "execute_result"
    }
   ],
   "source": [
    "#how to check types of a variable using the type function\n",
    "\n",
    "type(john)"
   ]
  },
  {
   "cell_type": "code",
   "execution_count": 24,
   "metadata": {},
   "outputs": [
    {
     "data": {
      "text/plain": [
       "int"
      ]
     },
     "execution_count": 24,
     "metadata": {},
     "output_type": "execute_result"
    }
   ],
   "source": [
    "age = 30  #without decimal points\n",
    "type(age)"
   ]
  },
  {
   "cell_type": "code",
   "execution_count": 25,
   "metadata": {},
   "outputs": [
    {
     "data": {
      "text/plain": [
       "float"
      ]
     },
     "execution_count": 25,
     "metadata": {},
     "output_type": "execute_result"
    }
   ],
   "source": [
    "age1 = 30.4 #numbers with decimal points\n",
    "type(age1)"
   ]
  },
  {
   "cell_type": "code",
   "execution_count": 27,
   "metadata": {},
   "outputs": [
    {
     "data": {
      "text/plain": [
       "bool"
      ]
     },
     "execution_count": 27,
     "metadata": {},
     "output_type": "execute_result"
    }
   ],
   "source": [
    "#boolean means True or False (capitalize the first letter)\n",
    "\n",
    "bool1 = True\n",
    "type (bool1)"
   ]
  },
  {
   "cell_type": "code",
   "execution_count": null,
   "metadata": {},
   "outputs": [],
   "source": [
    "#integer division and other arithmetics (+, -, *, /, //, round up, ceil, floor)\n",
    "\n",
    "# you can do arithmetics with python\n",
    "age * 2 #multiplication operator\n",
    "age / 2 #division operator\n",
    "age + 2 #addition operator\n",
    "age - 2 #subtraction operator\n",
    "2**4 #raise to power 4"
   ]
  },
  {
   "cell_type": "code",
   "execution_count": 28,
   "metadata": {},
   "outputs": [
    {
     "data": {
      "text/plain": [
       "15"
      ]
     },
     "execution_count": 28,
     "metadata": {},
     "output_type": "execute_result"
    }
   ],
   "source": [
    "age//2 #integer division removing the fraction (it does floor division)"
   ]
  },
  {
   "cell_type": "code",
   "execution_count": 35,
   "metadata": {},
   "outputs": [
    {
     "data": {
      "text/plain": [
       "8"
      ]
     },
     "execution_count": 35,
     "metadata": {},
     "output_type": "execute_result"
    }
   ],
   "source": [
    "#importing the function\n",
    "import math \n",
    "\n",
    "math.ceil(age/4) #round up\n",
    "math.floor(age/4) #round down"
   ]
  },
  {
   "cell_type": "code",
   "execution_count": 33,
   "metadata": {},
   "outputs": [
    {
     "data": {
      "text/plain": [
       "8.56"
      ]
     },
     "execution_count": 33,
     "metadata": {},
     "output_type": "execute_result"
    }
   ],
   "source": [
    "val = 77/9\n",
    "round(val, 2)  # rounding up to two decimal places"
   ]
  },
  {
   "cell_type": "markdown",
   "metadata": {},
   "source": [
    "## Data Structures"
   ]
  },
  {
   "cell_type": "markdown",
   "metadata": {},
   "source": [
    "## Strings\n",
    "- A Python string is a sequence which consist of one or more characters. The string is an immutable\n",
    "data structure, which means they cannot be changed.  For example, if you define string str1 = \"I am an analyst\", \n",
    "then str1 will always remain \"I am an analyst\""
   ]
  },
  {
   "cell_type": "code",
   "execution_count": null,
   "metadata": {},
   "outputs": [],
   "source": [
    "# a string is anything inside a quote and is immutable\n",
    "\n",
    "vaf = \"24\" #is also a string even though a number"
   ]
  },
  {
   "cell_type": "code",
   "execution_count": 42,
   "metadata": {},
   "outputs": [],
   "source": [
    "str1 = \"Data Science is changing the world\"\n",
    "\n",
    "#to get the length of this string, python will count all the characters including the spaces"
   ]
  },
  {
   "cell_type": "code",
   "execution_count": 43,
   "metadata": {},
   "outputs": [
    {
     "data": {
      "text/plain": [
       "34"
      ]
     },
     "execution_count": 43,
     "metadata": {},
     "output_type": "execute_result"
    }
   ],
   "source": [
    "# get the length of the string (using len function)\n",
    "len(str1)"
   ]
  },
  {
   "cell_type": "markdown",
   "metadata": {},
   "source": [
    "### String indexing (single part) and string slicing (multiple parts)"
   ]
  },
  {
   "cell_type": "code",
   "execution_count": 45,
   "metadata": {},
   "outputs": [
    {
     "data": {
      "text/plain": [
       "'d'"
      ]
     },
     "execution_count": 45,
     "metadata": {},
     "output_type": "execute_result"
    }
   ],
   "source": [
    "## String Indexing (retriving a single part of the string)\n",
    "\n",
    "#first element = python starts counting position from 0\n",
    "\n",
    "#first element\n",
    "str1[0]\n",
    "\n",
    "\n",
    "# get the last element of the string\n",
    "str1[-1]\n",
    "\n",
    "#get second to the last\n",
    "str1[-2]"
   ]
  },
  {
   "cell_type": "code",
   "execution_count": 48,
   "metadata": {},
   "outputs": [
    {
     "data": {
      "text/plain": [
       "'Dt cec scagn h ol'"
      ]
     },
     "execution_count": 48,
     "metadata": {},
     "output_type": "execute_result"
    }
   ],
   "source": [
    "# Python slicing (retriving multiple elements in a string)\n",
    "\n",
    "#getting some part of the string using python slicing \n",
    "\n",
    "\n",
    "#retrieve the first four elements\n",
    "str1[0 : 4]  #it does not include the 4th position\n",
    "\n",
    "str1[ : 4]\n",
    "\n",
    "str1 [3 : ]   #meaning from position 3 to the end\n",
    "\n",
    "str1[-3 : ] #from the third to last position to the end\n",
    "\n",
    "# reverse a string\n",
    "str1[: : -1]  #python should go from the beginning to the end and jump step of 1 but a reversal\n",
    "\n",
    "str1[ : : 2] #go from begining to the end in step of 2"
   ]
  },
  {
   "cell_type": "markdown",
   "metadata": {},
   "source": [
    "## String Methods"
   ]
  },
  {
   "cell_type": "code",
   "execution_count": 57,
   "metadata": {},
   "outputs": [
    {
     "data": {
      "text/plain": [
       "['We',\n",
       " 'are',\n",
       " 'all',\n",
       " 'humans,',\n",
       " 'we',\n",
       " 'love',\n",
       " 'python,',\n",
       " 'we',\n",
       " 'love',\n",
       " 'coding']"
      ]
     },
     "execution_count": 57,
     "metadata": {},
     "output_type": "execute_result"
    }
   ],
   "source": [
    "str2 = \"We are all humans, we love python, we love coding\"\n",
    "\n",
    "# difference between functions and methods\n",
    "\n",
    "# how many times \"we\" occurs\n",
    "str2.count(\"we\")\n",
    "\n",
    "\n",
    "# Turn string to uppercase\n",
    "str2.upper()\n",
    "\n",
    "\n",
    "# Turn string to lowercase\n",
    "str2.lower()\n",
    "\n",
    "\n",
    "# capitalize string (first letter of the sentence)\n",
    "str2.capitalize()\n",
    "\n",
    "\n",
    "# Convert string to title (first letter of every word of the sentence)\n",
    "str2.title()\n",
    "\n",
    "# split the string to get tokens \n",
    "str2.split()    #by default the method splits by white space and forms a list (which is denoted by square bracket)"
   ]
  },
  {
   "cell_type": "code",
   "execution_count": 58,
   "metadata": {},
   "outputs": [
    {
     "ename": "TypeError",
     "evalue": "'str' object does not support item assignment",
     "output_type": "error",
     "traceback": [
      "\u001b[1;31m---------------------------------------------------------------------------\u001b[0m",
      "\u001b[1;31mTypeError\u001b[0m                                 Traceback (most recent call last)",
      "Input \u001b[1;32mIn [58]\u001b[0m, in \u001b[0;36m<cell line: 2>\u001b[1;34m()\u001b[0m\n\u001b[0;32m      1\u001b[0m \u001b[38;5;66;03m# string is immutable\u001b[39;00m\n\u001b[1;32m----> 2\u001b[0m str2 [\u001b[38;5;241m0\u001b[39m] \u001b[38;5;241m=\u001b[39m \u001b[38;5;124m\"\u001b[39m\u001b[38;5;124mdo\u001b[39m\u001b[38;5;124m\"\u001b[39m\n",
      "\u001b[1;31mTypeError\u001b[0m: 'str' object does not support item assignment"
     ]
    }
   ],
   "source": [
    "# string is immutable\n",
    "str2 [0] = \"do\"   #gives error if you try to alter a string"
   ]
  },
  {
   "cell_type": "code",
   "execution_count": 59,
   "metadata": {},
   "outputs": [
    {
     "data": {
      "text/plain": [
       "'We are all humans, do love python, do love coding'"
      ]
     },
     "execution_count": 59,
     "metadata": {},
     "output_type": "execute_result"
    }
   ],
   "source": [
    "str_new = str2.replace(\"we\", \"do\")  #if you choose to alter a string"
   ]
  },
  {
   "cell_type": "markdown",
   "metadata": {},
   "source": [
    "## Lists\n",
    "- Python list is also a built-in data structure available in Python. It can contain heterogeneous values \n",
    "such as integers, floats, strings, tuples, lists, and dictionaries. \n",
    "However, Python lists are mutable; yes, they can change"
   ]
  },
  {
   "cell_type": "code",
   "execution_count": 80,
   "metadata": {},
   "outputs": [],
   "source": [
    "# creating a list with values\n",
    "Avengers = ['hulk', 'iron-man', 'Captain', 'Thor', [\"man\", 30]]"
   ]
  },
  {
   "cell_type": "markdown",
   "metadata": {},
   "source": [
    "### Indexing a list"
   ]
  },
  {
   "cell_type": "code",
   "execution_count": 81,
   "metadata": {},
   "outputs": [
    {
     "data": {
      "text/plain": [
       "'iron-man'"
      ]
     },
     "execution_count": 81,
     "metadata": {},
     "output_type": "execute_result"
    }
   ],
   "source": [
    "# get the first element\n",
    "Avengers[0]   #using indexing method as in the case of string\n",
    "\n",
    "\n",
    "#get last element\n",
    "Avengers[-1]\n",
    "\n",
    "\n",
    "#get last element of the list inside the list \"30\"\n",
    "Avengers[-1][1]\n",
    "\n",
    "\n",
    "# reverse the list\n",
    "Avengers[ : : -1]\n",
    "\n",
    "\n",
    "# update the second element of the list with \"Captain-America\"\n",
    "Avengers[0] = \"Spider\"\n",
    "\n",
    "\n",
    "# add element to the list {using append or insert method}\n",
    "Avengers.append(\"bin\")    #the method adds to the end of the list\n",
    "\n",
    "Avengers.insert(0, \"America\")  #inserting in position 0\n",
    "\n",
    "\n",
    "# deleting an element from the list\n",
    "\n",
    "Avengers.remove(\"Thor\")\n",
    "\n",
    "#or\n",
    "\n",
    "Avengers.pop(2)  #element in position 2"
   ]
  },
  {
   "cell_type": "code",
   "execution_count": 82,
   "metadata": {},
   "outputs": [
    {
     "data": {
      "text/plain": [
       "['America', 'Spider', 'Captain', ['man', 30], 'bin']"
      ]
     },
     "execution_count": 82,
     "metadata": {},
     "output_type": "execute_result"
    }
   ],
   "source": [
    "Avengers"
   ]
  },
  {
   "cell_type": "markdown",
   "metadata": {},
   "source": [
    "## List Methods (functions on list)"
   ]
  },
  {
   "cell_type": "code",
   "execution_count": 84,
   "metadata": {},
   "outputs": [],
   "source": [
    "l1 = [3,2,3,6,9,4,50]\n",
    "\n",
    "# find the maximum\n",
    "max(l1)\n",
    "\n",
    "# find the minimum\n",
    "min(l1)\n",
    "\n",
    "# calculate mean\n",
    "sum(l1)/len(l1)\n",
    "\n",
    "# sort the list using sort() and sorted()\n",
    "\n",
    "sorted(l1)   #by default in ascending order\n",
    "sorted(l1, reverse = True)  #in descending order\n",
    "\n",
    "\n",
    "l1.sort()\n",
    "l1.sort(reverse = True)\n",
    "\n"
   ]
  },
  {
   "cell_type": "code",
   "execution_count": 90,
   "metadata": {},
   "outputs": [],
   "source": [
    "#range function\n",
    "range(0, 10)\n",
    "\n",
    "\n",
    "l2 = list(range(10))"
   ]
  },
  {
   "cell_type": "code",
   "execution_count": 91,
   "metadata": {},
   "outputs": [
    {
     "data": {
      "text/plain": [
       "[0, 1, 2, 3, 4, 5, 6, 7, 8, 9]"
      ]
     },
     "execution_count": 91,
     "metadata": {},
     "output_type": "execute_result"
    }
   ],
   "source": [
    "list(range(0, 10))"
   ]
  },
  {
   "cell_type": "markdown",
   "metadata": {},
   "source": [
    "## For-loop"
   ]
  },
  {
   "cell_type": "code",
   "execution_count": 92,
   "metadata": {},
   "outputs": [
    {
     "name": "stdout",
     "output_type": "stream",
     "text": [
      "1\n",
      "4\n",
      "9\n",
      "16\n",
      "25\n",
      "36\n",
      "49\n",
      "64\n",
      "81\n",
      "100\n"
     ]
    }
   ],
   "source": [
    "# write a program to generate the square of numbers 1 to 10\n",
    "\n",
    "num = list(range (1, 11))\n",
    "\n",
    "for i in num:\n",
    "    print(i ** 2)"
   ]
  },
  {
   "cell_type": "code",
   "execution_count": 104,
   "metadata": {},
   "outputs": [],
   "source": [
    "#write a program to generate the square of all even numbers between 1 to 10\n",
    "num = list(range (1, 11))\n",
    "\n",
    "list2 = []\n",
    "for i in num:\n",
    "    if i % 2 == 0:\n",
    "        list2.append(i ** 2)\n"
   ]
  },
  {
   "cell_type": "code",
   "execution_count": 105,
   "metadata": {},
   "outputs": [
    {
     "data": {
      "text/plain": [
       "[4, 16, 36, 64, 100]"
      ]
     },
     "execution_count": 105,
     "metadata": {},
     "output_type": "execute_result"
    }
   ],
   "source": [
    "list2"
   ]
  },
  {
   "cell_type": "code",
   "execution_count": 2,
   "metadata": {},
   "outputs": [],
   "source": [
    "# write a program to generate even numbers within 1 to 10\n",
    "\n",
    "        "
   ]
  },
  {
   "cell_type": "markdown",
   "metadata": {},
   "source": [
    "## If and elif statements"
   ]
  },
  {
   "cell_type": "code",
   "execution_count": null,
   "metadata": {},
   "outputs": [],
   "source": []
  },
  {
   "cell_type": "markdown",
   "metadata": {},
   "source": [
    "## Functions"
   ]
  },
  {
   "cell_type": "code",
   "execution_count": 4,
   "metadata": {},
   "outputs": [],
   "source": [
    "# write a function to add two numbers\n",
    "\n"
   ]
  },
  {
   "cell_type": "markdown",
   "metadata": {},
   "source": [
    "## Dictionaries\n",
    "- In Python, a dictionary is a sequence of key-value, or item, pairs separated by commas. \n",
    "- Consider the following example:\n",
    "    - port = {22: \"SSH\", 23: \"Telnet\" , 53: \"DNS\", 80: \"HTTP\" } \n",
    "- The port variable refers to a dictionary that contains port numbers as keys and its protocol names as values. \n",
    "- Consider the following example:\n",
    "    - companies = {\"IBM\": \"International Business Machines\", \"L&T\" :\"Larsen & Toubro\"} \n",
    "- The syntax of a dictionary is as follows:\n",
    "    - Dictionary_name = {key: value}"
   ]
  },
  {
   "cell_type": "code",
   "execution_count": 6,
   "metadata": {},
   "outputs": [
    {
     "data": {
      "text/plain": [
       "'Telnet'"
      ]
     },
     "execution_count": 6,
     "metadata": {},
     "output_type": "execute_result"
    }
   ],
   "source": [
    "# get the individual value for the key\n",
    "Port = {80: \"HTTP\", 23 : \"Telnet\", 443 : \"HTTPS\"}\n",
    "\n",
    "\n",
    "# Access the dictionary above\n",
    "Port[23]"
   ]
  },
  {
   "cell_type": "markdown",
   "metadata": {},
   "source": [
    "## Updating the values in the dictionary"
   ]
  },
  {
   "cell_type": "code",
   "execution_count": 7,
   "metadata": {},
   "outputs": [],
   "source": [
    "# suppose value of port 23 is \"SMTP\", update the dictionary\n",
    "\n",
    "\n",
    "# Add another value in the dictionary\n",
    "Port[23] = \"POP\"\n"
   ]
  },
  {
   "cell_type": "code",
   "execution_count": 8,
   "metadata": {},
   "outputs": [
    {
     "name": "stdout",
     "output_type": "stream",
     "text": [
      "{80: 'HTTP', 23: 'POP', 443: 'HTTPS'}\n"
     ]
    }
   ],
   "source": [
    "print(Port)"
   ]
  },
  {
   "cell_type": "code",
   "execution_count": 9,
   "metadata": {},
   "outputs": [
    {
     "data": {
      "text/plain": [
       "dict"
      ]
     },
     "execution_count": 9,
     "metadata": {},
     "output_type": "execute_result"
    }
   ],
   "source": [
    "type(Port)"
   ]
  },
  {
   "cell_type": "code",
   "execution_count": null,
   "metadata": {},
   "outputs": [],
   "source": []
  }
 ],
 "metadata": {
  "kernelspec": {
   "display_name": "Python 3 (ipykernel)",
   "language": "python",
   "name": "python3"
  },
  "language_info": {
   "codemirror_mode": {
    "name": "ipython",
    "version": 3
   },
   "file_extension": ".py",
   "mimetype": "text/x-python",
   "name": "python",
   "nbconvert_exporter": "python",
   "pygments_lexer": "ipython3",
   "version": "3.9.12"
  }
 },
 "nbformat": 4,
 "nbformat_minor": 4
}
